{
 "cells": [
  {
   "cell_type": "code",
   "execution_count": 36,
   "id": "c97cf4d3",
   "metadata": {},
   "outputs": [],
   "source": [
    "from pathlib import Path\n",
    "import pandas as pd\n",
    "from collections import Counter\n",
    "from tqdm import tqdm\n",
    "import string\n",
    "import re"
   ]
  },
  {
   "cell_type": "markdown",
   "id": "08b09c6f",
   "metadata": {},
   "source": [
    "## 手动从已分词文章中获取分词\n",
    "\n",
    "数据包[百度网盘 - 已划分文章](https://pan.baidu.com/s/1MXZONaLgeaw0_TxZZDAIYQ)，提取码pea6，从[github - 词库及词法工具\n",
    "](https://github.com/fighting41love/funNLP#%E8%AF%8D%E5%BA%93%E5%8F%8A%E8%AF%8D%E6%B3%95%E5%B7%A5%E5%85%B7)中找到."
   ]
  },
  {
   "cell_type": "code",
   "execution_count": 37,
   "id": "f4f52016",
   "metadata": {},
   "outputs": [],
   "source": [
    "# 设定排除的标点符号\n",
    "punctuation = r'＂＃＄％＆＇（）＊＋，－／：；＜＝＞＠［＼］＾＿｀｛｜｝～｟｠｢｣､　、〃〈〉《》「」『』【】〔〕〖〗〘〙〚〛〜〝〞〟〰〾〿–—‘’‛“”„‟…‧﹏﹑﹔·！？｡。'\n",
    "punctuation += r'!\"#$%&\\'()*+,-./:;<=>?@[\\\\]^_`{|}~'"
   ]
  },
  {
   "cell_type": "code",
   "execution_count": 38,
   "id": "3e369b99",
   "metadata": {},
   "outputs": [],
   "source": [
    "def wash(word):  # 将标点符号去除\n",
    "    ret = \"\"\n",
    "    if bool(re.search('[0-9a-zA-Z]', word)): # 不能包含数字和字母\n",
    "        return ''\n",
    "    for w in word:\n",
    "        if w in punctuation:\n",
    "            continue\n",
    "        ret += w\n",
    "    return ret"
   ]
  },
  {
   "cell_type": "code",
   "execution_count": 39,
   "id": "f5ba1125",
   "metadata": {
    "scrolled": true
   },
   "outputs": [
    {
     "name": "stdout",
     "output_type": "stream",
     "text": [
      "处理1/23\n"
     ]
    },
    {
     "name": "stderr",
     "output_type": "stream",
     "text": [
      "100%|███████████████████████████████████████████████████████████████████████████████| 762/762 [00:01<00:00, 755.81it/s]\n"
     ]
    },
    {
     "name": "stdout",
     "output_type": "stream",
     "text": [
      "处理2/23\n"
     ]
    },
    {
     "name": "stderr",
     "output_type": "stream",
     "text": [
      "100%|█████████████████████████████████████████████████████████████████████████████| 2643/2643 [00:03<00:00, 782.35it/s]\n"
     ]
    },
    {
     "name": "stdout",
     "output_type": "stream",
     "text": [
      "处理3/23\n"
     ]
    },
    {
     "name": "stderr",
     "output_type": "stream",
     "text": [
      "100%|█████████████████████████████████████████████████████████████████████████████████| 12/12 [00:00<00:00, 600.63it/s]\n"
     ]
    },
    {
     "name": "stdout",
     "output_type": "stream",
     "text": [
      "处理4/23\n"
     ]
    },
    {
     "name": "stderr",
     "output_type": "stream",
     "text": [
      "100%|███████████████████████████████████████████████████████████████████████████████| 703/703 [00:00<00:00, 758.65it/s]\n"
     ]
    },
    {
     "name": "stdout",
     "output_type": "stream",
     "text": [
      "处理5/23\n"
     ]
    },
    {
     "name": "stderr",
     "output_type": "stream",
     "text": [
      "100%|█████████████████████████████████████████████████████████████████████████████| 1029/1029 [00:01<00:00, 763.83it/s]\n"
     ]
    },
    {
     "name": "stdout",
     "output_type": "stream",
     "text": [
      "处理6/23\n"
     ]
    },
    {
     "name": "stderr",
     "output_type": "stream",
     "text": [
      "100%|█████████████████████████████████████████████████████████████████████████████| 2739/2739 [00:03<00:00, 736.48it/s]\n"
     ]
    },
    {
     "name": "stdout",
     "output_type": "stream",
     "text": [
      "处理7/23\n"
     ]
    },
    {
     "name": "stderr",
     "output_type": "stream",
     "text": [
      "100%|█████████████████████████████████████████████████████████████████████████████| 3124/3124 [00:04<00:00, 756.07it/s]\n"
     ]
    },
    {
     "name": "stdout",
     "output_type": "stream",
     "text": [
      "处理8/23\n"
     ]
    },
    {
     "name": "stderr",
     "output_type": "stream",
     "text": [
      "100%|█████████████████████████████████████████████████████████████████████████████| 3101/3101 [00:03<00:00, 781.11it/s]\n"
     ]
    },
    {
     "name": "stdout",
     "output_type": "stream",
     "text": [
      "处理9/23\n"
     ]
    },
    {
     "name": "stderr",
     "output_type": "stream",
     "text": [
      "100%|█████████████████████████████████████████████████████████████████████████████| 3061/3061 [00:03<00:00, 801.92it/s]\n"
     ]
    },
    {
     "name": "stdout",
     "output_type": "stream",
     "text": [
      "处理10/23\n"
     ]
    },
    {
     "name": "stderr",
     "output_type": "stream",
     "text": [
      "100%|█████████████████████████████████████████████████████████████████████████████| 2769/2769 [00:03<00:00, 780.07it/s]\n"
     ]
    },
    {
     "name": "stdout",
     "output_type": "stream",
     "text": [
      "处理11/23\n"
     ]
    },
    {
     "name": "stderr",
     "output_type": "stream",
     "text": [
      "100%|█████████████████████████████████████████████████████████████████████████████| 1148/1148 [00:01<00:00, 759.43it/s]\n"
     ]
    },
    {
     "name": "stdout",
     "output_type": "stream",
     "text": [
      "处理12/23\n"
     ]
    },
    {
     "name": "stderr",
     "output_type": "stream",
     "text": [
      "100%|█████████████████████████████████████████████████████████████████████████████| 1259/1259 [00:01<00:00, 742.32it/s]\n"
     ]
    },
    {
     "name": "stdout",
     "output_type": "stream",
     "text": [
      "处理13/23\n"
     ]
    },
    {
     "name": "stderr",
     "output_type": "stream",
     "text": [
      "100%|█████████████████████████████████████████████████████████████████████████████| 3241/3241 [00:04<00:00, 795.13it/s]\n"
     ]
    },
    {
     "name": "stdout",
     "output_type": "stream",
     "text": [
      "处理14/23\n"
     ]
    },
    {
     "name": "stderr",
     "output_type": "stream",
     "text": [
      "100%|█████████████████████████████████████████████████████████████████████████████| 3074/3074 [00:03<00:00, 783.06it/s]\n"
     ]
    },
    {
     "name": "stdout",
     "output_type": "stream",
     "text": [
      "处理15/23\n"
     ]
    },
    {
     "name": "stderr",
     "output_type": "stream",
     "text": [
      "100%|█████████████████████████████████████████████████████████████████████████████| 2965/2965 [00:03<00:00, 769.32it/s]\n"
     ]
    },
    {
     "name": "stdout",
     "output_type": "stream",
     "text": [
      "处理16/23\n"
     ]
    },
    {
     "name": "stderr",
     "output_type": "stream",
     "text": [
      "100%|█████████████████████████████████████████████████████████████████████████████| 3037/3037 [00:03<00:00, 771.44it/s]\n"
     ]
    },
    {
     "name": "stdout",
     "output_type": "stream",
     "text": [
      "处理17/23\n"
     ]
    },
    {
     "name": "stderr",
     "output_type": "stream",
     "text": [
      "100%|█████████████████████████████████████████████████████████████████████████████| 2992/2992 [00:03<00:00, 791.86it/s]\n"
     ]
    },
    {
     "name": "stdout",
     "output_type": "stream",
     "text": [
      "处理18/23\n"
     ]
    },
    {
     "name": "stderr",
     "output_type": "stream",
     "text": [
      "100%|█████████████████████████████████████████████████████████████████████████████| 1338/1338 [00:01<00:00, 755.86it/s]\n"
     ]
    },
    {
     "name": "stdout",
     "output_type": "stream",
     "text": [
      "处理19/23\n"
     ]
    },
    {
     "name": "stderr",
     "output_type": "stream",
     "text": [
      "100%|█████████████████████████████████████████████████████████████████████████████| 1408/1408 [00:01<00:00, 740.40it/s]\n"
     ]
    },
    {
     "name": "stdout",
     "output_type": "stream",
     "text": [
      "处理20/23\n"
     ]
    },
    {
     "name": "stderr",
     "output_type": "stream",
     "text": [
      "100%|█████████████████████████████████████████████████████████████████████████████| 3242/3242 [00:04<00:00, 757.39it/s]\n"
     ]
    },
    {
     "name": "stdout",
     "output_type": "stream",
     "text": [
      "处理21/23\n"
     ]
    },
    {
     "name": "stderr",
     "output_type": "stream",
     "text": [
      "100%|█████████████████████████████████████████████████████████████████████████████| 2959/2959 [00:03<00:00, 771.22it/s]\n"
     ]
    },
    {
     "name": "stdout",
     "output_type": "stream",
     "text": [
      "处理22/23\n"
     ]
    },
    {
     "name": "stderr",
     "output_type": "stream",
     "text": [
      "100%|█████████████████████████████████████████████████████████████████████████████| 3206/3206 [00:03<00:00, 810.93it/s]\n"
     ]
    },
    {
     "name": "stdout",
     "output_type": "stream",
     "text": [
      "处理23/23\n"
     ]
    },
    {
     "name": "stderr",
     "output_type": "stream",
     "text": [
      "100%|█████████████████████████████████████████████████████████████████████████████| 3035/3035 [00:04<00:00, 752.14it/s]\n"
     ]
    }
   ],
   "source": [
    "path = Path(r'../data/train/')  # 分词文件路径\n",
    "mydir = Counter()  # 记录单词\n",
    "total = len(list(path.iterdir()))\n",
    "for idx, d in enumerate(path.iterdir()):\n",
    "    print(f'处理{idx+1}/{total}')  # 显示当前处理的文件数\n",
    "    for f in tqdm(list(d.iterdir())):\n",
    "        with open(f, encoding='utf-8') as file:  # 读取文件\n",
    "            s = file.read()\n",
    "        words = s.split()  # 以空格进行分词\n",
    "        words = [w.split(r'/')[0] for w in words]  # 以转义符进行分词\n",
    "        words = [wash(w) for w in words if wash(w) != '']  # 进一步清洗单词\n",
    "        for w in words:\n",
    "            if w in mydir:\n",
    "                mydir[w] += 1\n",
    "            else:\n",
    "                mydir[w] = 1"
   ]
  },
  {
   "cell_type": "code",
   "execution_count": 209,
   "id": "dcb6c1a9",
   "metadata": {
    "scrolled": true
   },
   "outputs": [
    {
     "data": {
      "text/plain": [
       "[('的', 857740),\n",
       " ('在', 226439),\n",
       " ('了', 204348),\n",
       " ('是', 164193),\n",
       " ('和', 141341),\n",
       " ('有', 85663),\n",
       " ('也', 80071),\n",
       " ('中', 69160),\n",
       " ('不', 65965),\n",
       " ('为', 65723)]"
      ]
     },
     "execution_count": 209,
     "metadata": {},
     "output_type": "execute_result"
    }
   ],
   "source": [
    "mydir.most_common()[:10]  # 按出现次数进行排名"
   ]
  },
  {
   "cell_type": "code",
   "execution_count": 41,
   "id": "6c797599",
   "metadata": {},
   "outputs": [
    {
     "data": {
      "text/plain": [
       "170719"
      ]
     },
     "execution_count": 41,
     "metadata": {},
     "output_type": "execute_result"
    }
   ],
   "source": [
    "len(mydir)  # 总共的单词数目"
   ]
  },
  {
   "cell_type": "code",
   "execution_count": 42,
   "id": "66eecfe9",
   "metadata": {},
   "outputs": [],
   "source": [
    "mywords = [w[0] for w in mydir.most_common()]  # 转化为list\n",
    "df = pd.DataFrame(mywords, columns=['单词'])  # 保存为表格形式\n",
    "df.to_csv('myword.csv', index=False)"
   ]
  },
  {
   "cell_type": "markdown",
   "id": "7587a278",
   "metadata": {},
   "source": [
    "## 直接使用jieba词库\n",
    "\n",
    "尝试上述分词效果较差，直接使用jieba词库，[github-jieba/](https://github.com/fxsjy/jieba/blob/master/extra_dict/dict.txt.small)."
   ]
  },
  {
   "cell_type": "code",
   "execution_count": 179,
   "id": "1c7e0891",
   "metadata": {},
   "outputs": [
    {
     "name": "stdout",
     "output_type": "stream",
     "text": [
      "583280\n"
     ]
    }
   ],
   "source": [
    "# 文件读取\n",
    "dic = set()\n",
    "with open('dict.txt_2.big', encoding='utf-8') as file:\n",
    "    for s in file.readlines():\n",
    "        word = s.split()[0]\n",
    "        dic.add(word)\n",
    "print(len(dic))\n",
    "# print(dic[:100])"
   ]
  },
  {
   "cell_type": "markdown",
   "id": "969b9c3d",
   "metadata": {},
   "source": [
    "## 最大匹配法\n",
    "\n",
    "### 正向最大匹配法\n",
    "\n",
    "从左到右获取单词，获取当前左指针对应的字典中最大长度的单词，每次右指针减1，逐一匹配."
   ]
  },
  {
   "cell_type": "code",
   "execution_count": 211,
   "id": "8fa408f3",
   "metadata": {},
   "outputs": [
    {
     "data": {
      "text/plain": [
       "[('劳动和社会保障部职业技能鉴定中心', 16),\n",
       " ('外交部驻澳门特别行政区特派员公署', 16),\n",
       " ('外交部駐香港特別行政區特派員公署', 16),\n",
       " ('外交部驻香港特别行政区特派员公署', 16),\n",
       " ('侵华日军南京大屠杀遇难同胞纪念馆', 16),\n",
       " ('侵華日軍南京大屠殺遇難同胞紀念館', 16),\n",
       " ('八千一百三十七萬七千二百三十六口', 16),\n",
       " ('八千一百三十七万七千二百三十六口', 16),\n",
       " ('第九屆全國人民代表大會常務委員會', 16),\n",
       " ('外交部駐澳門特別行政區特派員公署', 16)]"
      ]
     },
     "execution_count": 211,
     "metadata": {},
     "output_type": "execute_result"
    }
   ],
   "source": [
    "counter = Counter()\n",
    "for w in dic:\n",
    "    counter[w] = len(w)\n",
    "counter.most_common()[:10]"
   ]
  },
  {
   "cell_type": "code",
   "execution_count": 192,
   "id": "9d93115c",
   "metadata": {
    "scrolled": true
   },
   "outputs": [
    {
     "data": {
      "text/plain": [
       "True"
      ]
     },
     "execution_count": 192,
     "metadata": {},
     "output_type": "execute_result"
    }
   ],
   "source": [
    "def check(word):  # 判断是否为词语\n",
    "    return word in dic\n",
    "check('牛乳')"
   ]
  },
  {
   "cell_type": "code",
   "execution_count": 212,
   "id": "eb2988bd",
   "metadata": {},
   "outputs": [
    {
     "name": "stdout",
     "output_type": "stream",
     "text": [
      "文本长度 8\n"
     ]
    }
   ],
   "source": [
    "# text = '我们在野生动物园玩'  # 设定目标文本\n",
    "# text = '背起沉重的行囊，我在黎明前起身，向着梦想的驿站，向着遥远的远方，一路前行。'  # 设定目标文本\n",
    "with open('text_big.txt', encoding='utf-8') as file:\n",
    "    text = file.read()\n",
    "text = '汉字多为表意文字'  # 设定目标文本\n",
    "length = len(text)  # 获取文本长度\n",
    "print('文本长度', length)"
   ]
  },
  {
   "cell_type": "code",
   "execution_count": 216,
   "id": "cfd274b9",
   "metadata": {
    "scrolled": true
   },
   "outputs": [
    {
     "name": "stdout",
     "output_type": "stream",
     "text": [
      "正向最大匹配法长度： 4\n",
      "单个字个数： 2\n"
     ]
    }
   ],
   "source": [
    "# 正向最大匹配法\n",
    "pos_div= []\n",
    "pos_single = 0\n",
    "i = 0  # 左指针\n",
    "while i < length:\n",
    "    for j in range(min(i+16, length), i, -1):  # 右指针\n",
    "        if check(text[i:j]):\n",
    "            pos_div.append(text[i:j])\n",
    "            break\n",
    "    if i + 1 == j:  # 记录单个字词个数\n",
    "        pos_single += 1\n",
    "    i = j\n",
    "print('正向最大匹配法长度：', len(pos_div))\n",
    "print('单个字个数：', pos_single)"
   ]
  },
  {
   "cell_type": "markdown",
   "id": "3953af4d",
   "metadata": {},
   "source": [
    "### 逆向最大匹配法\n",
    "\n",
    "从右到左获取单词，获取当前右指针左侧对应的字典中最大长度的单词，每次左指针加1，逐一匹配."
   ]
  },
  {
   "cell_type": "code",
   "execution_count": 214,
   "id": "7364974f",
   "metadata": {
    "scrolled": true
   },
   "outputs": [
    {
     "name": "stdout",
     "output_type": "stream",
     "text": [
      "逆向最大匹配法长度： 4\n",
      "单个字个数： 2\n"
     ]
    }
   ],
   "source": [
    "# 逆向最大匹配法\n",
    "neg_div= []\n",
    "neg_single = 0\n",
    "j = length  # 右指针\n",
    "while j > 0:\n",
    "    for i in range(max(j-16, 0), j):  # 左指针\n",
    "        if check(text[i:j]):\n",
    "            neg_div.append(text[i:j])\n",
    "            break\n",
    "    if i + 1 == j:  # 记录单个字词个数\n",
    "        neg_single += 1\n",
    "    j = i\n",
    "neg_div = neg_div[::-1]\n",
    "print('逆向最大匹配法长度：', len(neg_div))\n",
    "print('单个字个数：', neg_single)"
   ]
  },
  {
   "cell_type": "markdown",
   "id": "645fe8d9",
   "metadata": {},
   "source": [
    "### 双向最大匹配法\n",
    "\n",
    "选择分词数量少的，且单个词的个数少"
   ]
  },
  {
   "cell_type": "code",
   "execution_count": 215,
   "id": "7d854674",
   "metadata": {
    "scrolled": true
   },
   "outputs": [
    {
     "name": "stdout",
     "output_type": "stream",
     "text": [
      "两者相同\n",
      "['汉字', '多', '为', '表意文字']\n"
     ]
    }
   ],
   "source": [
    "best_div = None\n",
    "if len(pos_div) != len(neg_div):\n",
    "    if len(pos_div) < len(neg_div):\n",
    "        best_div = pos_div\n",
    "        print('选择正向')\n",
    "    else:\n",
    "        best_div = neg_div\n",
    "        print('选择逆向')\n",
    "elif pos_single != neg_single:\n",
    "    if pos_single < neg_single:\n",
    "        best_div = pos_div\n",
    "        print('选择正向')\n",
    "    else:\n",
    "        best_div = neg_div\n",
    "        print('选择逆向')\n",
    "if best_div == None:\n",
    "    best_div = pos_div\n",
    "    print('两者相同')\n",
    "print(best_div)"
   ]
  },
  {
   "cell_type": "code",
   "execution_count": null,
   "id": "8164c557",
   "metadata": {},
   "outputs": [],
   "source": []
  }
 ],
 "metadata": {
  "kernelspec": {
   "display_name": "Python 3 (ipykernel)",
   "language": "python",
   "name": "python3"
  },
  "language_info": {
   "codemirror_mode": {
    "name": "ipython",
    "version": 3
   },
   "file_extension": ".py",
   "mimetype": "text/x-python",
   "name": "python",
   "nbconvert_exporter": "python",
   "pygments_lexer": "ipython3",
   "version": "3.9.12"
  }
 },
 "nbformat": 4,
 "nbformat_minor": 5
}
