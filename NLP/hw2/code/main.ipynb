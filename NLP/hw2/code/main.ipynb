{
 "cells": [
  {
   "cell_type": "markdown",
   "id": "cc48cb82",
   "metadata": {},
   "source": [
    "## 数据预处理"
   ]
  },
  {
   "cell_type": "code",
   "execution_count": 1,
   "id": "5f2c14ba",
   "metadata": {},
   "outputs": [],
   "source": [
    "# -*- coding: UTF-8 -*-\n",
    "\n",
    "\"\"\"\n",
    "@author: wty-yy\n",
    "@software: Jupyter\n",
    "@file: prepare.py\n",
    "@time: 2022/11/14 15:03\n",
    "\"\"\"\n",
    "\n",
    "from pathlib import Path\n",
    "import numpy as np\n",
    "import matplotlib.pyplot as plt\n",
    "import collections\n",
    "import re\n",
    "from tqdm import tqdm\n",
    "from nltk import word_tokenize  # 分词\n",
    "from nltk.corpus import stopwords  # 停用词\n",
    "from nltk.stem.porter import PorterStemmer  # 使用Porter词干提取方法\n",
    "from nltk.stem import WordNetLemmatizer  # 词性还原\n",
    "\n",
    "config = {\n",
    "    \"font.family\": 'serif', # 衬线字体\n",
    "    \"figure.figsize\": (14, 6),  # 图像大小\n",
    "    \"font.size\": 20, # 字号大小\n",
    "    \"font.serif\": ['SimSun'], # 宋体\n",
    "    \"mathtext.fontset\": 'stix', # 渲染数学公式字体\n",
    "    'axes.unicode_minus': False # 显示负号\n",
    "}\n",
    "plt.rcParams.update(config)"
   ]
  },
  {
   "cell_type": "code",
   "execution_count": 2,
   "id": "8145d50e",
   "metadata": {},
   "outputs": [],
   "source": [
    "def extractWords(words):  # 提取分词\n",
    "    words = words.lower()\n",
    "    words = word_tokenize(words)  # 分词\n",
    "    dropWords = [\"n't\"]  # 这个是计算结果中出现次数第一的，但明显不重要\n",
    "    words = [word for word in words if re.match(r'[A-Za-z]', word) and word not in dropWords]  # 保证单词中必须包含字母\n",
    "    stops = set(stopwords.words('english'))\n",
    "    words = [word for word in words if word not in stops]\n",
    "    tmp = []  # 词干提取+还原词性\n",
    "    for word in words:\n",
    "        stem = PorterStemmer().stem(word)  # 词干提取\n",
    "        pos = ['n', 'v', 'a', 'r', 's']  # 名词，动词，形容词，副词，附属形容词\n",
    "        for p in pos:\n",
    "            stem = WordNetLemmatizer().lemmatize(stem, pos=p)\n",
    "        tmp.append(stem)  # 还原词性，附属形容词\n",
    "    words = tmp\n",
    "    return words\n",
    "\n",
    "def initDataset(fname, showInfo=True):\n",
    "    path = Path(fname)  # 将路径转化为Path类\n",
    "    folds = [f.name for f in path.iterdir() if f.is_dir()]  # 获取文件夹名称\n",
    "    allwords, words, fileNum, counter = [[] for _ in range(20)], [[] for _ in range(20)], [], []\n",
    "    for id, fold in enumerate(folds):  # 一共有20个文件夹，分别对其内部文件进行处理\n",
    "        print(f'处理第{id+1}/{len(folds)}个文件夹{fold}中...')\n",
    "        now = path.joinpath(fold)\n",
    "        files = [f.name for f in now.iterdir() if f.is_file()]  # 获取当前文件夹内的文件名\n",
    "        for file in tqdm(files):  # 获取文件文件名\n",
    "            pathFile = now.joinpath(file)\n",
    "            with open(pathFile, errors='replace') as f:  # 打开文件进行处理\n",
    "                s = f.readline()\n",
    "                while s != \"\\n\":  # 先找到第一个换行符，下面则是正文\n",
    "                    s = f.readline()\n",
    "                text = f.read()\n",
    "            allwords[id] += extractWords(text)\n",
    "            words[id].append(extractWords(text))\n",
    "        fileNum.append(len(files))  # 记录文件数目\n",
    "        counter.append(collections.Counter(allwords[id]))  # 统计词频\n",
    "        \n",
    "    totalCounter = collections.Counter([w for word in allwords for w in word])\n",
    "    if showInfo:\n",
    "        print(f'{\"Class\":>25} {\"Id\":>5} {\"Files\":>8} {\"Words\":>8}  {\"Most common words\"}')  # 显示文件相关信息\n",
    "        for i, fold in enumerate(folds):\n",
    "            print(f'{fold:>25}:{i:>5} {fileNum[i]:>8} {len(counter[i]):>8}  {[t[0] for t in counter[i].most_common(5)]}')\n",
    "        print(f'{\"\":>25} {\"\":>5} {sum(fileNum):>8} {len(totalCounter):>8}  {[t[0] for t in totalCounter.most_common(5)]}')\n",
    "    \n",
    "    return words, allwords, fileNum, totalCounter\n"
   ]
  },
  {
   "cell_type": "code",
   "execution_count": 3,
   "id": "c7854d86",
   "metadata": {},
   "outputs": [
    {
     "name": "stdout",
     "output_type": "stream",
     "text": [
      "get get get\n",
      "dog dog\n"
     ]
    }
   ],
   "source": [
    "# 测试下词性转化功能\n",
    "print(WordNetLemmatizer().lemmatize('get', pos='v'), WordNetLemmatizer().lemmatize('got', pos='v'), WordNetLemmatizer().lemmatize('gotten', pos='v'))\n",
    "print(WordNetLemmatizer().lemmatize('dog', pos='n'), WordNetLemmatizer().lemmatize('dogs', pos='n'))"
   ]
  },
  {
   "cell_type": "code",
   "execution_count": 4,
   "id": "a8aad0f2",
   "metadata": {
    "scrolled": true
   },
   "outputs": [
    {
     "name": "stdout",
     "output_type": "stream",
     "text": [
      "处理第1/20个文件夹alt.atheism中...\n"
     ]
    },
    {
     "name": "stderr",
     "output_type": "stream",
     "text": [
      "100%|██████████████████████████████████████████████████████████████████████████████| 1000/1000 [00:23<00:00, 42.25it/s]\n"
     ]
    },
    {
     "name": "stdout",
     "output_type": "stream",
     "text": [
      "处理第2/20个文件夹comp.graphics中...\n"
     ]
    },
    {
     "name": "stderr",
     "output_type": "stream",
     "text": [
      "100%|██████████████████████████████████████████████████████████████████████████████| 1000/1000 [00:21<00:00, 46.96it/s]\n"
     ]
    },
    {
     "name": "stdout",
     "output_type": "stream",
     "text": [
      "处理第3/20个文件夹comp.os.ms-windows.misc中...\n"
     ]
    },
    {
     "name": "stderr",
     "output_type": "stream",
     "text": [
      "100%|██████████████████████████████████████████████████████████████████████████████| 1000/1000 [00:26<00:00, 37.09it/s]\n"
     ]
    },
    {
     "name": "stdout",
     "output_type": "stream",
     "text": [
      "处理第4/20个文件夹comp.sys.ibm.pc.hardware中...\n"
     ]
    },
    {
     "name": "stderr",
     "output_type": "stream",
     "text": [
      "100%|██████████████████████████████████████████████████████████████████████████████| 1000/1000 [00:19<00:00, 52.30it/s]\n"
     ]
    },
    {
     "name": "stdout",
     "output_type": "stream",
     "text": [
      "处理第5/20个文件夹comp.sys.mac.hardware中...\n"
     ]
    },
    {
     "name": "stderr",
     "output_type": "stream",
     "text": [
      "100%|██████████████████████████████████████████████████████████████████████████████| 1000/1000 [00:19<00:00, 50.30it/s]\n"
     ]
    },
    {
     "name": "stdout",
     "output_type": "stream",
     "text": [
      "处理第6/20个文件夹comp.windows.x中...\n"
     ]
    },
    {
     "name": "stderr",
     "output_type": "stream",
     "text": [
      "100%|██████████████████████████████████████████████████████████████████████████████| 1000/1000 [00:25<00:00, 39.59it/s]\n"
     ]
    },
    {
     "name": "stdout",
     "output_type": "stream",
     "text": [
      "处理第7/20个文件夹misc.forsale中...\n"
     ]
    },
    {
     "name": "stderr",
     "output_type": "stream",
     "text": [
      "100%|██████████████████████████████████████████████████████████████████████████████| 1000/1000 [00:17<00:00, 57.37it/s]\n"
     ]
    },
    {
     "name": "stdout",
     "output_type": "stream",
     "text": [
      "处理第8/20个文件夹rec.autos中...\n"
     ]
    },
    {
     "name": "stderr",
     "output_type": "stream",
     "text": [
      "100%|██████████████████████████████████████████████████████████████████████████████| 1000/1000 [00:16<00:00, 59.39it/s]\n"
     ]
    },
    {
     "name": "stdout",
     "output_type": "stream",
     "text": [
      "处理第9/20个文件夹rec.motorcycles中...\n"
     ]
    },
    {
     "name": "stderr",
     "output_type": "stream",
     "text": [
      "100%|██████████████████████████████████████████████████████████████████████████████| 1000/1000 [00:16<00:00, 61.65it/s]\n"
     ]
    },
    {
     "name": "stdout",
     "output_type": "stream",
     "text": [
      "处理第10/20个文件夹rec.sport.baseball中...\n"
     ]
    },
    {
     "name": "stderr",
     "output_type": "stream",
     "text": [
      "100%|██████████████████████████████████████████████████████████████████████████████| 1000/1000 [00:17<00:00, 57.08it/s]\n"
     ]
    },
    {
     "name": "stdout",
     "output_type": "stream",
     "text": [
      "处理第11/20个文件夹rec.sport.hockey中...\n"
     ]
    },
    {
     "name": "stderr",
     "output_type": "stream",
     "text": [
      "100%|██████████████████████████████████████████████████████████████████████████████| 1000/1000 [00:19<00:00, 51.11it/s]\n"
     ]
    },
    {
     "name": "stdout",
     "output_type": "stream",
     "text": [
      "处理第12/20个文件夹sci.crypt中...\n"
     ]
    },
    {
     "name": "stderr",
     "output_type": "stream",
     "text": [
      "100%|██████████████████████████████████████████████████████████████████████████████| 1000/1000 [00:22<00:00, 44.00it/s]\n"
     ]
    },
    {
     "name": "stdout",
     "output_type": "stream",
     "text": [
      "处理第13/20个文件夹sci.electronics中...\n"
     ]
    },
    {
     "name": "stderr",
     "output_type": "stream",
     "text": [
      "100%|██████████████████████████████████████████████████████████████████████████████| 1000/1000 [00:16<00:00, 59.32it/s]\n"
     ]
    },
    {
     "name": "stdout",
     "output_type": "stream",
     "text": [
      "处理第14/20个文件夹sci.med中...\n"
     ]
    },
    {
     "name": "stderr",
     "output_type": "stream",
     "text": [
      "100%|██████████████████████████████████████████████████████████████████████████████| 1000/1000 [00:21<00:00, 46.88it/s]\n"
     ]
    },
    {
     "name": "stdout",
     "output_type": "stream",
     "text": [
      "处理第15/20个文件夹sci.space中...\n"
     ]
    },
    {
     "name": "stderr",
     "output_type": "stream",
     "text": [
      "100%|██████████████████████████████████████████████████████████████████████████████| 1000/1000 [00:20<00:00, 47.87it/s]\n"
     ]
    },
    {
     "name": "stdout",
     "output_type": "stream",
     "text": [
      "处理第16/20个文件夹soc.religion.christian中...\n"
     ]
    },
    {
     "name": "stderr",
     "output_type": "stream",
     "text": [
      "100%|████████████████████████████████████████████████████████████████████████████████| 997/997 [00:24<00:00, 41.02it/s]\n"
     ]
    },
    {
     "name": "stdout",
     "output_type": "stream",
     "text": [
      "处理第17/20个文件夹talk.politics.guns中...\n"
     ]
    },
    {
     "name": "stderr",
     "output_type": "stream",
     "text": [
      "100%|██████████████████████████████████████████████████████████████████████████████| 1000/1000 [00:23<00:00, 43.01it/s]\n"
     ]
    },
    {
     "name": "stdout",
     "output_type": "stream",
     "text": [
      "处理第18/20个文件夹talk.politics.mideast中...\n"
     ]
    },
    {
     "name": "stderr",
     "output_type": "stream",
     "text": [
      "100%|██████████████████████████████████████████████████████████████████████████████| 1000/1000 [00:30<00:00, 32.93it/s]\n"
     ]
    },
    {
     "name": "stdout",
     "output_type": "stream",
     "text": [
      "处理第19/20个文件夹talk.politics.misc中...\n"
     ]
    },
    {
     "name": "stderr",
     "output_type": "stream",
     "text": [
      "100%|██████████████████████████████████████████████████████████████████████████████| 1000/1000 [00:25<00:00, 39.07it/s]\n"
     ]
    },
    {
     "name": "stdout",
     "output_type": "stream",
     "text": [
      "处理第20/20个文件夹talk.religion.misc中...\n"
     ]
    },
    {
     "name": "stderr",
     "output_type": "stream",
     "text": [
      "100%|██████████████████████████████████████████████████████████████████████████████| 1000/1000 [00:22<00:00, 45.18it/s]\n"
     ]
    },
    {
     "name": "stdout",
     "output_type": "stream",
     "text": [
      "                    Class    Id    Files    Words  Most common words\n",
      "              alt.atheism:    0     1000    10950  ['write', 'say', 'one', 'god', 'would']\n",
      "            comp.graphics:    1     1000    13406  ['imag', 'file', 'use', 'program', 'write']\n",
      "  comp.os.ms-windows.misc:    2     1000    48850  ['max', 'g', 'r', 'q', 'p']\n",
      " comp.sys.ibm.pc.hardware:    3     1000    10353  ['drive', 'use', 'get', 'card', 'scsi']\n",
      "    comp.sys.mac.hardware:    4     1000     9354  ['use', 'mac', 'get', 'write', 'appl']\n",
      "           comp.windows.x:    5     1000    20392  ['x', 'use', 'window', 'file', 'program']\n",
      "             misc.forsale:    6     1000    10830  ['new', 'sale', 'offer', 'use', 'sell']\n",
      "                rec.autos:    7     1000    10378  ['car', 'write', 'get', 'articl', 'would']\n",
      "          rec.motorcycles:    8     1000    10207  ['write', 'bike', 'get', 'articl', 'dod']\n",
      "       rec.sport.baseball:    9     1000     9164  ['game', 'year', 'write', 'good', 'get']\n",
      "         rec.sport.hockey:   10     1000    11311  ['game', 'team', 'play', 'go', 'get']\n",
      "                sci.crypt:   11     1000    13087  ['key', 'use', 'encrypt', 'would', 'write']\n",
      "          sci.electronics:   12     1000    10480  ['use', 'one', 'would', 'write', 'get']\n",
      "                  sci.med:   13     1000    15271  ['use', 'one', 'write', 'get', 'articl']\n",
      "                sci.space:   14     1000    13867  ['space', 'would', 'write', 'orbit', 'one']\n",
      "   soc.religion.christian:   15      997    12616  ['god', 'christian', 'one', 'would', 'say']\n",
      "       talk.politics.guns:   16     1000    14626  ['gun', 'would', 'write', 'peopl', 'articl']\n",
      "    talk.politics.mideast:   17     1000    15105  ['armenian', 'say', 'peopl', 'one', 'write']\n",
      "       talk.politics.misc:   18     1000    13727  ['would', 'write', 'peopl', 'say', 'articl']\n",
      "       talk.religion.misc:   19     1000    12390  ['write', 'say', 'one', 'god', 'would']\n",
      "                                   19997   146437  ['write', 'would', 'one', 'use', 'get']\n"
     ]
    }
   ],
   "source": [
    "words, allwords, fileNum, totalCounter = initDataset(r'D:\\yy\\program\\NLP\\hw2\\20_newsgroups')  # 此处设置为数据集位置"
   ]
  },
  {
   "cell_type": "markdown",
   "id": "01bed20f",
   "metadata": {},
   "source": [
    "```\n",
    "                    Class  Id Files  Words  Most common words\n",
    "              alt.atheism:  0  1000  10950  ['write', 'say', 'one', 'god', 'would']\n",
    "            comp.graphics:  1  1000  13406  ['imag', 'file', 'use', 'program', 'write']\n",
    "  comp.os.ms-windows.misc:  2  1000  48850  ['max', 'g', 'r', 'q', 'p']\n",
    " comp.sys.ibm.pc.hardware:  3  1000  10353  ['drive', 'use', 'get', 'card', 'scsi']\n",
    "    comp.sys.mac.hardware:  4  1000   9354  ['use', 'mac', 'get', 'write', 'appl']\n",
    "           comp.windows.x:  5  1000  20392  ['x', 'use', 'window', 'file', 'program']\n",
    "             misc.forsale:  6  1000  10830  ['new', 'sale', 'offer', 'use', 'sell']\n",
    "                rec.autos:  7  1000  10378  ['car', 'write', 'get', 'articl', 'would']\n",
    "          rec.motorcycles:  8  1000  10207  ['write', 'bike', 'get', 'articl', 'dod']\n",
    "       rec.sport.baseball:  9  1000   9164  ['game', 'year', 'write', 'good', 'get']\n",
    "         rec.sport.hockey: 10  1000  11311  ['game', 'team', 'play', 'go', 'get']\n",
    "                sci.crypt: 11  1000  13087  ['key', 'use', 'encrypt', 'would', 'write']\n",
    "          sci.electronics: 12  1000  10480  ['use', 'one', 'would', 'write', 'get']\n",
    "                  sci.med: 13  1000  15271  ['use', 'one', 'write', 'get', 'articl']\n",
    "                sci.space: 14  1000  13867  ['space', 'would', 'write', 'orbit', 'one']\n",
    "   soc.religion.christian: 15   997  12616  ['god', 'christian', 'one', 'would', 'say']\n",
    "       talk.politics.guns: 16  1000  14626  ['gun', 'would', 'write', 'peopl', 'articl']\n",
    "    talk.politics.mideast: 17  1000  15105  ['armenian', 'say', 'peopl', 'one', 'write']\n",
    "       talk.politics.misc: 18  1000  13727  ['would', 'write', 'peopl', 'say', 'articl']\n",
    "       talk.religion.misc: 19  1000  12390  ['write', 'say', 'one', 'god', 'would']\n",
    "                              19997 146437  ['write', 'would', 'one', 'use', 'get']\n",
    "```"
   ]
  },
  {
   "cell_type": "markdown",
   "id": "f85dc773",
   "metadata": {},
   "source": [
    "## K近邻\n",
    "\n",
    "选取前1000个单词作为词向量的维度. `word2num[]` 将单词映射为数字，`num2word[]` 为其逆映射，将数字映射为单词."
   ]
  },
  {
   "cell_type": "code",
   "execution_count": 5,
   "id": "de93611d",
   "metadata": {},
   "outputs": [],
   "source": [
    "N = 1000\n",
    "value = list(totalCounter.values())\n",
    "keyword = totalCounter.most_common(1000)"
   ]
  },
  {
   "cell_type": "code",
   "execution_count": 6,
   "id": "3c668c7d",
   "metadata": {
    "scrolled": true
   },
   "outputs": [
    {
     "name": "stdout",
     "output_type": "stream",
     "text": [
      "write, would, one, use, get, articl, say, know, like, think, make, peopl, good, go, time, x, see, also, could, work, u, take, right, new, want, system, even, way, year, thing, come, well, find, may, give, look, need, god, problem, much, mani, tri, first, two, file, mean, max, believ, call, run, question, point, q, anyon, post, seem, program, state, window, tell, differ, r, drive, read, realli, someth, plea, includ, g, sinc, thank, number, p, ca, back, univers, still, govern, reason, help, inform, day, start, person, game, gener, part, follow, might, support, c, law, sure, last, long, ask, case, fact, never, do, let, interest, set, christian, must, without, possibl, hear, group, comput, power, anoth, someon, car, avail, lot, n, b, name, show, put, keep, key, imag, line, great, exist, chang, live, send, actual, word, world, control, place, claim, high, list, happen, probabl, anyth, etc, data, howev, around, book, w, littl, opinion, v, everi, bite, card, kill, true, consid, least, cours, object, play, buy, best, child, softwar, space, idea, enough, base, talk, order, team, old, second, gun, end, provid, late, issu, version, el, nation, build, human, though, armenian, exampl, either, far, refer, public, k, note, david, noth, life, jesu, hard, sourc, respons, requir, ye, rather, wrong, real, answer, bad, caus, subject, understand, e, discus, report, origin, current, l, effect, john, f, valu, mail, quit, big, chip, man, allow, free, price, pay, other, h, care, standard, sever, le, kind, feel, moral, mayb, hope, suggest, machin, abl, evid, email, ever, alway, american, phone, next, turn, yet, result, engin, address, sell, disk, fire, hand, scienc, develop, sound, author, accept, whether, bill, small, close, type, applic, agre, forc, three, z, user, hold, lead, rememb, e-mail, internet, view, open, away, jew, j, import, area, research, home, messag, driver, today, love, leave, q,3, matter, countri, mark, design, appear, move, copi, israel, player, religion, posit, check, fast, creat, cost, assum, test, war, manag, servic, color, major, unit, commun, local, complet, code, wonder, speak, larg, perhap, oper, display, low, presid, argument, deal, shoot, week, side, compani, offer, box, alreadi, mac, rule, win, stop, expect, money, secur, encrypt, becom, speed, format, light, experi, mind, church, studi, technolog, guy, specif, organ, begin, graphic, mention, form, present, ago, lose, woman, recent, save, stuff, product, protect, bibl, offic, act, correct, center, pretti, member, memori, statement, month, death, whole, action, fax, bring, model, die, truth, process, natur, full, packag, hous, rate, guess, info, attack, pc, perform, access, except, final, pas, everyth, bodi, histori, news, often, involv, receiv, situat, intern, simpli, break, sort, advanc, everyon, arm, fbi, plan, instal, friend, continu, hit, sen, regard, polit, usual, comment, head, mr., server, certainli, monitor, total, appreci, carri, board, suppos, contact, error, b8f, term, limit, clear, almost, anyway, instead, paul, explain, homosexu, activ, stand, return, drug, command, muslim, although, men, wo, turkish, meet, job, earth, level, faith, april, definit, netcom.com, frank, network, basic, devic, event, quot, christ, connect, black, theori, ftp, defin, net, contain, michael, nice, belief, leav, unless, convert, grind, citi, press, function, individu, coupl, weapon, document, singl, prove, privat, within, learn, night, decid, observ, school, similar, cover, sun, a86, steve, period, busi, ad, concern, appli, attempt, thu, mike, u.s., bike, relat, practic, anybodi, fan, isra, arab, jewish, sin, page, repli, site, land, newsgroup, especi, watch, religi, direct, face, accord, certain, detail, releas, peac, figur, addit, road, legal, delet, compar, text, wait, record, video, parti, white, size, fine, polic, mode, mine, draw, exactli, de, entir, hell, describ, past, saw, purpos, physic, societi, field, option, among, common, ignor, stori, bear, spend, oh, dead, add, sorri, rest, simpl, special, million, scsi, jim, goe, condit, koresh, normal, sale, ring, notic, via, crime, particular, absolut, whatev, strong, increas, project, short, appl, upon, third, sometim, top, therefor, health, replac, output, murder, depart, tax, per, fail, screen, institut, offici, p., season, hardwar, date, polici, robert, hi, doubt, paper, print, due, propos, goal, depend, red, request, pick, serv, forget, prefer, ga, clinton, easi, produc, cut, futur, fall, throw, lie, atheist, insur, handl, earli, medic, hockey, four, method, associ, radio, defens, teach, prevent, port, section, remov, cheap, feder, orbit, front, publish, flame, outsid, canada, chanc, manual, electron, dod, minor, faq, choic, will, indic, tape, young, king, miss, clipper, ride, seri, shall, commit, knowledg, air, account, constitut, distribut, worth, a., blue, tool, wish, vote, usa, freedom, variou, ok, administr, burn, occur, score, jame, bu, decis, court, launch, water, select, charg, famili, anonym, market, ship, interpret, featur, leagu, switch, font, hour, near, amount, behind, medium, jpeg, directori, popul, respect, qualiti, measur, citizen, lord, sign, dave, along, necessari, bob, york, logic, togeth, greek, remain, judg, san, librari, fight, letter, previou, algorithm, share, express, father, brian, resourc, plu, islam, digit, militari, inc., voic, search, soon, solut, unix, pictur, ram, agenc, respond, db, fit, fix, initi, crimin, appar, averag, minut, main, trade, food, class, student, entri, peter, clearli, russian, widget, toward, basebal, ed, imagin, modem, fund, educ, load, ibm, mile, approach, interfac, languag, none, announc, son, slow, determin, avoid, j., door, divis, repres, materi, enforc, mous, otherwis, independ, suppli, armenia, doctor, ii, age, eye, stupid, mass, wire, disclaim, basi, seriou, stick, separ, realiz, la, cabl, unfortun, implement, drop, purchas, agent, turk, al, stay, sit, diseas, hole, washington, danger, effort, anim, equal, tv, technic, folk, inde, success, argu, recommend, choos, predict, c., convers, owner, capabl, station, lack, civil, happi, consist, printer, block, rais, batf, insid, obvious, patient, abort, street, room, reach, hate, intend, dr., directli, obtain, rel, locat, collect, commerci, suffer, secret, beat, thousand, illeg, kid, bb, turkey, america, scientif, clean, archiv, improv, manufactur, wide, surpris, firearm, mission, train, altern, store, neither, eric, establish, nasa, environ, step, scott, equip, input, suspect, serial, heart, floppi, grant, smith, count, reduc, troubl, i.e, genocid, employ, eat, whose, apr, leader, concept, excel, dealer, listen, half, titl, compound, thoma, punish, pitch, edit, tom, mechan, realiti, admit, difficult, easili, amend, recogn, enter, conclus, degre, confer, investig, pain, aid, context, confus, appropri, uunet, scriptur, trust, walk, pat, bank, safe, upgrad, volum, usenet, adam, georg, extra, defend, andrew, mere, expens, sex, tank, western, compress, compil, translat, social, gif, alon, angel, star, "
     ]
    }
   ],
   "source": [
    "# 选择基底\n",
    "word2num, num2word = {}, {}\n",
    "for i, word in enumerate(keyword):\n",
    "    word2num[word[0]] = i\n",
    "    num2word[i] = word\n",
    "    print(word[0], end=', ')"
   ]
  },
  {
   "cell_type": "markdown",
   "id": "eccc4bf1",
   "metadata": {},
   "source": [
    "### 构建词向量\n",
    "\n",
    "归一化到半径为100的球上"
   ]
  },
  {
   "cell_type": "code",
   "execution_count": 7,
   "id": "0aaafb6a",
   "metadata": {},
   "outputs": [],
   "source": [
    "def word2vector(word, norm=True):  # 通过文档生成词向量，且向量的模长为100，由于有1000维，单位化每一维值太小\n",
    "    x = np.ones(N)\n",
    "    for t in word:\n",
    "        if t in word2num:\n",
    "            x[word2num[t]] += 1\n",
    "    if norm:\n",
    "        x /= x.sum() / 100\n",
    "    return x\n",
    "    \n",
    "data = []  # (词向量, 类别)  共有19997个词向量\n",
    "for i in range(20):\n",
    "    for w in words[i]:\n",
    "        x = word2vector(w)\n",
    "        data.append((x, i))"
   ]
  },
  {
   "cell_type": "code",
   "execution_count": 8,
   "id": "48abf11a",
   "metadata": {
    "scrolled": true
   },
   "outputs": [
    {
     "name": "stdout",
     "output_type": "stream",
     "text": [
      "处理第1/20个文件夹alt.atheism中...\n"
     ]
    },
    {
     "name": "stderr",
     "output_type": "stream",
     "text": [
      "100%|████████████████████████████████████████████████████████████████████████████████| 100/100 [00:01<00:00, 50.48it/s]\n"
     ]
    },
    {
     "name": "stdout",
     "output_type": "stream",
     "text": [
      "处理第2/20个文件夹comp.graphics中...\n"
     ]
    },
    {
     "name": "stderr",
     "output_type": "stream",
     "text": [
      "100%|████████████████████████████████████████████████████████████████████████████████| 100/100 [00:02<00:00, 35.09it/s]\n"
     ]
    },
    {
     "name": "stdout",
     "output_type": "stream",
     "text": [
      "处理第3/20个文件夹comp.os.ms-windows.misc中...\n"
     ]
    },
    {
     "name": "stderr",
     "output_type": "stream",
     "text": [
      "100%|████████████████████████████████████████████████████████████████████████████████| 100/100 [00:02<00:00, 49.82it/s]\n"
     ]
    },
    {
     "name": "stdout",
     "output_type": "stream",
     "text": [
      "处理第4/20个文件夹comp.sys.ibm.pc.hardware中...\n"
     ]
    },
    {
     "name": "stderr",
     "output_type": "stream",
     "text": [
      "100%|████████████████████████████████████████████████████████████████████████████████| 100/100 [00:01<00:00, 63.26it/s]\n"
     ]
    },
    {
     "name": "stdout",
     "output_type": "stream",
     "text": [
      "处理第5/20个文件夹comp.sys.mac.hardware中...\n"
     ]
    },
    {
     "name": "stderr",
     "output_type": "stream",
     "text": [
      "100%|████████████████████████████████████████████████████████████████████████████████| 100/100 [00:01<00:00, 60.77it/s]\n"
     ]
    },
    {
     "name": "stdout",
     "output_type": "stream",
     "text": [
      "处理第6/20个文件夹comp.windows.x中...\n"
     ]
    },
    {
     "name": "stderr",
     "output_type": "stream",
     "text": [
      "100%|████████████████████████████████████████████████████████████████████████████████| 100/100 [00:02<00:00, 45.61it/s]\n"
     ]
    },
    {
     "name": "stdout",
     "output_type": "stream",
     "text": [
      "处理第7/20个文件夹misc.forsale中...\n"
     ]
    },
    {
     "name": "stderr",
     "output_type": "stream",
     "text": [
      "100%|████████████████████████████████████████████████████████████████████████████████| 100/100 [00:01<00:00, 73.43it/s]\n"
     ]
    },
    {
     "name": "stdout",
     "output_type": "stream",
     "text": [
      "处理第8/20个文件夹rec.autos中...\n"
     ]
    },
    {
     "name": "stderr",
     "output_type": "stream",
     "text": [
      "100%|████████████████████████████████████████████████████████████████████████████████| 100/100 [00:01<00:00, 60.49it/s]\n"
     ]
    },
    {
     "name": "stdout",
     "output_type": "stream",
     "text": [
      "处理第9/20个文件夹rec.motorcycles中...\n"
     ]
    },
    {
     "name": "stderr",
     "output_type": "stream",
     "text": [
      "100%|████████████████████████████████████████████████████████████████████████████████| 100/100 [00:01<00:00, 61.26it/s]\n"
     ]
    },
    {
     "name": "stdout",
     "output_type": "stream",
     "text": [
      "处理第10/20个文件夹rec.sport.baseball中...\n"
     ]
    },
    {
     "name": "stderr",
     "output_type": "stream",
     "text": [
      "100%|████████████████████████████████████████████████████████████████████████████████| 100/100 [00:01<00:00, 56.06it/s]\n"
     ]
    },
    {
     "name": "stdout",
     "output_type": "stream",
     "text": [
      "处理第11/20个文件夹rec.sport.hockey中...\n"
     ]
    },
    {
     "name": "stderr",
     "output_type": "stream",
     "text": [
      "100%|████████████████████████████████████████████████████████████████████████████████| 100/100 [00:01<00:00, 53.09it/s]\n"
     ]
    },
    {
     "name": "stdout",
     "output_type": "stream",
     "text": [
      "处理第12/20个文件夹sci.crypt中...\n"
     ]
    },
    {
     "name": "stderr",
     "output_type": "stream",
     "text": [
      "100%|████████████████████████████████████████████████████████████████████████████████| 100/100 [00:02<00:00, 47.67it/s]\n"
     ]
    },
    {
     "name": "stdout",
     "output_type": "stream",
     "text": [
      "处理第13/20个文件夹sci.electronics中...\n"
     ]
    },
    {
     "name": "stderr",
     "output_type": "stream",
     "text": [
      "100%|████████████████████████████████████████████████████████████████████████████████| 100/100 [00:02<00:00, 43.75it/s]\n"
     ]
    },
    {
     "name": "stdout",
     "output_type": "stream",
     "text": [
      "处理第14/20个文件夹sci.med中...\n"
     ]
    },
    {
     "name": "stderr",
     "output_type": "stream",
     "text": [
      "100%|████████████████████████████████████████████████████████████████████████████████| 100/100 [00:02<00:00, 38.73it/s]\n"
     ]
    },
    {
     "name": "stdout",
     "output_type": "stream",
     "text": [
      "处理第15/20个文件夹sci.space中...\n"
     ]
    },
    {
     "name": "stderr",
     "output_type": "stream",
     "text": [
      "100%|████████████████████████████████████████████████████████████████████████████████| 100/100 [00:02<00:00, 42.64it/s]\n"
     ]
    },
    {
     "name": "stdout",
     "output_type": "stream",
     "text": [
      "处理第16/20个文件夹soc.religion.christian中...\n"
     ]
    },
    {
     "name": "stderr",
     "output_type": "stream",
     "text": [
      "100%|████████████████████████████████████████████████████████████████████████████████| 100/100 [00:02<00:00, 37.86it/s]\n"
     ]
    },
    {
     "name": "stdout",
     "output_type": "stream",
     "text": [
      "处理第17/20个文件夹talk.politics.guns中...\n"
     ]
    },
    {
     "name": "stderr",
     "output_type": "stream",
     "text": [
      "100%|████████████████████████████████████████████████████████████████████████████████| 100/100 [00:02<00:00, 46.12it/s]\n"
     ]
    },
    {
     "name": "stdout",
     "output_type": "stream",
     "text": [
      "处理第18/20个文件夹talk.politics.mideast中...\n"
     ]
    },
    {
     "name": "stderr",
     "output_type": "stream",
     "text": [
      "100%|████████████████████████████████████████████████████████████████████████████████| 100/100 [00:02<00:00, 40.69it/s]\n"
     ]
    },
    {
     "name": "stdout",
     "output_type": "stream",
     "text": [
      "处理第19/20个文件夹talk.politics.misc中...\n"
     ]
    },
    {
     "name": "stderr",
     "output_type": "stream",
     "text": [
      "100%|████████████████████████████████████████████████████████████████████████████████| 100/100 [00:02<00:00, 38.94it/s]\n"
     ]
    },
    {
     "name": "stdout",
     "output_type": "stream",
     "text": [
      "处理第20/20个文件夹talk.religion.misc中...\n"
     ]
    },
    {
     "name": "stderr",
     "output_type": "stream",
     "text": [
      "100%|████████████████████████████████████████████████████████████████████████████████| 100/100 [00:02<00:00, 48.70it/s]"
     ]
    },
    {
     "name": "stdout",
     "output_type": "stream",
     "text": [
      "                    Class    Id    Files    Words  Most common words\n",
      "              alt.atheism:    0      100     3096  ['write', 'say', 'articl', 'one', 'make']\n",
      "            comp.graphics:    1      100     5273  ['imag', 'file', 'use', 'jpeg', 'format']\n",
      "  comp.os.ms-windows.misc:    2      100     5038  ['p', 'r', 'g', 'window', 'w']\n",
      " comp.sys.ibm.pc.hardware:    3      100     2567  ['use', 'drive', 'would', 'one', 'work']\n",
      "    comp.sys.mac.hardware:    4      100     2660  ['drive', 'problem', 'use', 'get', 'mac']\n",
      "           comp.windows.x:    5      100     3715  ['x', 'window', 'use', 'entri', 'program']\n",
      "             misc.forsale:    6      100     2669  ['new', 'plea', 'work', 'use', 'sale']\n",
      "                rec.autos:    7      100     3177  ['car', 'write', 'get', 'one', 'like']\n",
      "          rec.motorcycles:    8      100     3218  ['write', 'bike', 'articl', 'get', 'would']\n",
      "       rec.sport.baseball:    9      100     2889  ['year', 'write', 'game', 'good', 'get']\n",
      "         rec.sport.hockey:   10      100     3268  ['game', 'play', 'go', 'team', 'get']\n",
      "                sci.crypt:   11      100     3302  ['key', 'use', 'encrypt', 'would', 'secur']\n",
      "          sci.electronics:   12      100     3696  ['wire', 'use', 'one', 'grind', 'circuit']\n",
      "                  sci.med:   13      100     4975  ['one', 'use', 'get', 'would', 'write']\n",
      "                sci.space:   14      100     4365  ['space', 'would', 'launch', 'one', 'mission']\n",
      "   soc.religion.christian:   15      100     4237  ['god', 'one', 'christian', 'would', 'say']\n",
      "       talk.politics.guns:   16      100     3840  ['gun', 'write', 'would', 'peopl', 'articl']\n",
      "    talk.politics.mideast:   17      100     4552  ['write', 'armenian', 'israel', 'peopl', 'say']\n",
      "       talk.politics.misc:   18      100     4168  ['say', 'q', 'mr.', 'would', 'write']\n",
      "       talk.religion.misc:   19      100     3612  ['write', 'articl', 'say', 'one', 'would']\n",
      "                                    2000    31633  ['write', 'use', 'would', 'one', 'get']\n"
     ]
    },
    {
     "name": "stderr",
     "output_type": "stream",
     "text": [
      "\n"
     ]
    }
   ],
   "source": [
    "# 读入测试集\n",
    "test_words, _, _, _ = initDataset(r'D:\\yy\\program\\NLP\\hw2\\mini_newsgroups')  # 此处设置为数据集位置"
   ]
  },
  {
   "cell_type": "code",
   "execution_count": 9,
   "id": "60ca7127",
   "metadata": {},
   "outputs": [],
   "source": [
    "# KNN算法\n",
    "def KNN(word, K=[4]):\n",
    "    now = word2vector(word)  # 获得当前文档的词向量\n",
    "    dist = []\n",
    "    for x, y in data:\n",
    "        dist.append((np.linalg.norm(now - x), y))  # 计算欧氏距离\n",
    "    dist = sorted(dist, key=(lambda x: x[0]))  # 递增排序\n",
    "    ret = []\n",
    "    for k in K:\n",
    "        tmp = dist[1:k+1]  # 获得前k个，由于原数据集包含当前数据，第0个必然是自身，所以跳过第0个\n",
    "        classify = [c[1] for c in tmp]\n",
    "        ret.append(collections.Counter(classify).most_common()[0][0])  # 找到出现次数最多的类别作为预测值\n",
    "    return np.array(ret)"
   ]
  },
  {
   "cell_type": "code",
   "execution_count": 10,
   "id": "5ba93cfc",
   "metadata": {
    "scrolled": true
   },
   "outputs": [
    {
     "name": "stdout",
     "output_type": "stream",
     "text": [
      "计算第1/20组\n"
     ]
    },
    {
     "name": "stderr",
     "output_type": "stream",
     "text": [
      "100%|████████████████████████████████████████████████████████████████████████████████| 100/100 [00:13<00:00,  7.63it/s]\n"
     ]
    },
    {
     "name": "stdout",
     "output_type": "stream",
     "text": [
      "计算第2/20组\n"
     ]
    },
    {
     "name": "stderr",
     "output_type": "stream",
     "text": [
      "100%|████████████████████████████████████████████████████████████████████████████████| 100/100 [00:13<00:00,  7.47it/s]\n"
     ]
    },
    {
     "name": "stdout",
     "output_type": "stream",
     "text": [
      "计算第3/20组\n"
     ]
    },
    {
     "name": "stderr",
     "output_type": "stream",
     "text": [
      "100%|████████████████████████████████████████████████████████████████████████████████| 100/100 [00:13<00:00,  7.39it/s]\n"
     ]
    },
    {
     "name": "stdout",
     "output_type": "stream",
     "text": [
      "计算第4/20组\n"
     ]
    },
    {
     "name": "stderr",
     "output_type": "stream",
     "text": [
      "100%|████████████████████████████████████████████████████████████████████████████████| 100/100 [00:13<00:00,  7.37it/s]\n"
     ]
    },
    {
     "name": "stdout",
     "output_type": "stream",
     "text": [
      "计算第5/20组\n"
     ]
    },
    {
     "name": "stderr",
     "output_type": "stream",
     "text": [
      "100%|████████████████████████████████████████████████████████████████████████████████| 100/100 [00:13<00:00,  7.48it/s]\n"
     ]
    },
    {
     "name": "stdout",
     "output_type": "stream",
     "text": [
      "计算第6/20组\n"
     ]
    },
    {
     "name": "stderr",
     "output_type": "stream",
     "text": [
      "100%|████████████████████████████████████████████████████████████████████████████████| 100/100 [00:13<00:00,  7.42it/s]\n"
     ]
    },
    {
     "name": "stdout",
     "output_type": "stream",
     "text": [
      "计算第7/20组\n"
     ]
    },
    {
     "name": "stderr",
     "output_type": "stream",
     "text": [
      "100%|████████████████████████████████████████████████████████████████████████████████| 100/100 [00:13<00:00,  7.50it/s]\n"
     ]
    },
    {
     "name": "stdout",
     "output_type": "stream",
     "text": [
      "计算第8/20组\n"
     ]
    },
    {
     "name": "stderr",
     "output_type": "stream",
     "text": [
      "100%|████████████████████████████████████████████████████████████████████████████████| 100/100 [00:13<00:00,  7.63it/s]\n"
     ]
    },
    {
     "name": "stdout",
     "output_type": "stream",
     "text": [
      "计算第9/20组\n"
     ]
    },
    {
     "name": "stderr",
     "output_type": "stream",
     "text": [
      "100%|████████████████████████████████████████████████████████████████████████████████| 100/100 [00:12<00:00,  7.71it/s]\n"
     ]
    },
    {
     "name": "stdout",
     "output_type": "stream",
     "text": [
      "计算第10/20组\n"
     ]
    },
    {
     "name": "stderr",
     "output_type": "stream",
     "text": [
      "100%|████████████████████████████████████████████████████████████████████████████████| 100/100 [00:13<00:00,  7.65it/s]\n"
     ]
    },
    {
     "name": "stdout",
     "output_type": "stream",
     "text": [
      "计算第11/20组\n"
     ]
    },
    {
     "name": "stderr",
     "output_type": "stream",
     "text": [
      "100%|████████████████████████████████████████████████████████████████████████████████| 100/100 [00:13<00:00,  7.65it/s]\n"
     ]
    },
    {
     "name": "stdout",
     "output_type": "stream",
     "text": [
      "计算第12/20组\n"
     ]
    },
    {
     "name": "stderr",
     "output_type": "stream",
     "text": [
      "100%|████████████████████████████████████████████████████████████████████████████████| 100/100 [00:13<00:00,  7.65it/s]\n"
     ]
    },
    {
     "name": "stdout",
     "output_type": "stream",
     "text": [
      "计算第13/20组\n"
     ]
    },
    {
     "name": "stderr",
     "output_type": "stream",
     "text": [
      "100%|████████████████████████████████████████████████████████████████████████████████| 100/100 [00:13<00:00,  7.66it/s]\n"
     ]
    },
    {
     "name": "stdout",
     "output_type": "stream",
     "text": [
      "计算第14/20组\n"
     ]
    },
    {
     "name": "stderr",
     "output_type": "stream",
     "text": [
      "100%|████████████████████████████████████████████████████████████████████████████████| 100/100 [00:13<00:00,  7.60it/s]\n"
     ]
    },
    {
     "name": "stdout",
     "output_type": "stream",
     "text": [
      "计算第15/20组\n"
     ]
    },
    {
     "name": "stderr",
     "output_type": "stream",
     "text": [
      "100%|████████████████████████████████████████████████████████████████████████████████| 100/100 [00:13<00:00,  7.47it/s]\n"
     ]
    },
    {
     "name": "stdout",
     "output_type": "stream",
     "text": [
      "计算第16/20组\n"
     ]
    },
    {
     "name": "stderr",
     "output_type": "stream",
     "text": [
      "100%|████████████████████████████████████████████████████████████████████████████████| 100/100 [00:13<00:00,  7.56it/s]\n"
     ]
    },
    {
     "name": "stdout",
     "output_type": "stream",
     "text": [
      "计算第17/20组\n"
     ]
    },
    {
     "name": "stderr",
     "output_type": "stream",
     "text": [
      "100%|████████████████████████████████████████████████████████████████████████████████| 100/100 [00:13<00:00,  7.51it/s]\n"
     ]
    },
    {
     "name": "stdout",
     "output_type": "stream",
     "text": [
      "计算第18/20组\n"
     ]
    },
    {
     "name": "stderr",
     "output_type": "stream",
     "text": [
      "100%|████████████████████████████████████████████████████████████████████████████████| 100/100 [00:13<00:00,  7.49it/s]\n"
     ]
    },
    {
     "name": "stdout",
     "output_type": "stream",
     "text": [
      "计算第19/20组\n"
     ]
    },
    {
     "name": "stderr",
     "output_type": "stream",
     "text": [
      "100%|████████████████████████████████████████████████████████████████████████████████| 100/100 [00:13<00:00,  7.61it/s]\n"
     ]
    },
    {
     "name": "stdout",
     "output_type": "stream",
     "text": [
      "计算第20/20组\n"
     ]
    },
    {
     "name": "stderr",
     "output_type": "stream",
     "text": [
      "100%|████████████████████████████████████████████████████████████████████████████████| 100/100 [00:13<00:00,  7.60it/s]\n"
     ]
    }
   ],
   "source": [
    "# 计算不同的K对应的正确率\n",
    "K = [1,2,3,4,5,6,7,8,9,10, 20, 50, 100]\n",
    "rate = [np.zeros_like(K).astype('float') for _ in range(20)]\n",
    "for i in range(20):\n",
    "    print(f'计算第{i+1}/{20}组')\n",
    "    for w in tqdm(test_words[i]):\n",
    "        rate[i] += (KNN(w, K) == i)\n",
    "    rate[i] /= len(test_words[i])"
   ]
  },
  {
   "cell_type": "code",
   "execution_count": 11,
   "id": "602837a0",
   "metadata": {
    "scrolled": false
   },
   "outputs": [
    {
     "name": "stdout",
     "output_type": "stream",
     "text": [
      "K=1, 正确率: 58.00%\n",
      "K=2, 正确率: 58.00%\n",
      "K=3, 正确率: 56.40%\n",
      "K=4, 正确率: 55.85%\n",
      "K=5, 正确率: 54.10%\n",
      "K=6, 正确率: 52.50%\n",
      "K=7, 正确率: 51.60%\n",
      "K=8, 正确率: 50.30%\n",
      "K=9, 正确率: 48.75%\n",
      "K=10, 正确率: 48.20%\n",
      "K=20, 正确率: 42.70%\n",
      "K=50, 正确率: 37.25%\n",
      "K=100, 正确率: 33.55%\n"
     ]
    },
    {
     "data": {
      "image/png": "[encoded data removed]",
      "text/plain": [
       "<Figure size 720x576 with 1 Axes>"
      ]
     },
     "metadata": {
      "needs_background": "light"
     },
     "output_type": "display_data"
    }
   ],
   "source": [
    "# 选取正确率均值最高的K\n",
    "rateMean = np.mean(rate, axis=0)\n",
    "for k, r in zip(K, rateMean.tolist()):\n",
    "    print(f'K={k}, 正确率: {r:.2%}')\n",
    "plt.figure(figsize=(10,8))\n",
    "plt.plot(rateMean)\n",
    "plt.xlabel('K值')\n",
    "plt.ylabel('正确率')\n",
    "plt.show()"
   ]
  },
  {
   "cell_type": "code",
   "execution_count": 12,
   "id": "e96b703f",
   "metadata": {
    "scrolled": true
   },
   "outputs": [
    {
     "name": "stdout",
     "output_type": "stream",
     "text": [
      "K为4时，平均正确率较高55.85%\n",
      "第  1 组类别，正确率: 0.43\n",
      "第  2 组类别，正确率: 0.55\n",
      "第  3 组类别，正确率: 0.51\n",
      "第  4 组类别，正确率: 0.38\n",
      "第  5 组类别，正确率: 0.56\n",
      "第  6 组类别，正确率: 0.44\n",
      "第  7 组类别，正确率: 0.42\n",
      "第  8 组类别，正确率: 0.46\n",
      "第  9 组类别，正确率: 0.67\n",
      "第 10 组类别，正确率: 0.57\n",
      "第 11 组类别，正确率: 0.70\n",
      "第 12 组类别，正确率: 0.62\n",
      "第 13 组类别，正确率: 0.51\n",
      "第 14 组类别，正确率: 0.57\n",
      "第 15 组类别，正确率: 0.57\n",
      "第 16 组类别，正确率: 0.50\n",
      "第 17 组类别，正确率: 0.56\n",
      "第 18 组类别，正确率: 0.72\n",
      "第 19 组类别，正确率: 0.43\n",
      "第 20 组类别，正确率: 0.65\n"
     ]
    }
   ],
   "source": [
    "# 这里K不能选取过小，否则容易过拟合\n",
    "bestK = 4\n",
    "print(f'K为{bestK}时，平均正确率较高{np.mean(rate, axis=0)[bestK-1]:.2%}')\n",
    "for i in range(20):\n",
    "    print(f'第{i+1:>3} 组类别，正确率: {rate[i][bestK]:.2f}')"
   ]
  },
  {
   "cell_type": "markdown",
   "id": "0dd88c74",
   "metadata": {},
   "source": [
    "## 朴素Bayes\n",
    "\n",
    "设词向量维度为 $N=1000$，总类别为 $M = 20$，词向量记为 $\\boldsymbol{x}\\in \\mathbb{R}^N$，类别记为 $y=1,2,\\cdots,M$，则\n",
    "\n",
    "$$\n",
    "p(y|\\boldsymbol{x}) = \\frac{p(\\boldsymbol{x}|y)p(y)}{p(\\boldsymbol{x})} = \\frac{\\prod_{i=1}^Np(x_i|y)\\cdot p(y)}{\\prod_{i=1}^Np(x_i)} = \\frac{\\prod_{i=1}^Na_i\\cdot b}{\\prod_{i=1}^Nc_i}\n",
    "$$\n",
    "\n",
    "1. 记 $\\boldsymbol{Y}_j$ 为全部 $j$ 类文章的词向量之和，则 $a_i = \\frac{\\boldsymbol{x}_i}{\\boldsymbol{Y}_i}$.\n",
    "\n",
    "2. 记 $fileNum$ 为 $20$ 维向量，第 $y$ 维表示第 $y$ 种文章总数目，则 $b = \\frac{fileNum_y}{\\sum_{y=1}^{M}fileNum_y}$.\n",
    "\n",
    "3. 记 $\\boldsymbol{X}$ 为全部文本中词向量之和，即 $\\boldsymbol{X} = \\sum_{j=1}^M\\boldsymbol{Y}_j$，则 $c_i = \\frac{\\boldsymbol{x}_i}{\\boldsymbol{X}_i}$."
   ]
  },
  {
   "cell_type": "code",
   "execution_count": 13,
   "id": "9215d50b",
   "metadata": {},
   "outputs": [],
   "source": [
    "X = np.zeros(N)\n",
    "Y = []\n",
    "for i in range(20):\n",
    "    Y.append(word2vector(allwords[i], norm=False))\n",
    "    X += Y[-1]"
   ]
  },
  {
   "cell_type": "code",
   "execution_count": 14,
   "id": "ea5a35cb",
   "metadata": {},
   "outputs": [
    {
     "name": "stderr",
     "output_type": "stream",
     "text": [
      "  0%|                                                                                           | 0/20 [00:00<?, ?it/s]"
     ]
    },
    {
     "name": "stdout",
     "output_type": "stream",
     "text": [
      "2440.2568402216743\n",
      "3177.2432259060765\n",
      "3251.6467208911404\n",
      "3456.002358339605\n",
      "3457.6958388459248\n",
      "3330.540663360802\n",
      "4854.2117540374\n",
      "3064.738000090207\n",
      "2900.504294522018\n",
      "3011.2731521891396\n",
      "3231.1681895475976\n",
      "2907.323609794099\n",
      "3281.040019587754\n",
      "3097.2990161395774\n",
      "3028.7790697027667\n",
      "2863.33646021167\n",
      "2710.92756684691\n",
      "2632.1831993354376\n",
      "2567.505489666744\n",
      "2519.9421771192656\n",
      "[2440.25684022 3177.24322591 3251.64672089 3456.00235834 3457.69583885\n",
      " 3330.54066336 4854.21175404 3064.73800009 2900.50429452 3011.27315219\n",
      " 3231.16818955 2907.32360979 3281.04001959 3097.29901614 3028.7790697\n",
      " 2863.33646021 2710.92756685 2632.18319934 2567.50548967 2519.94217712]\n",
      "预测为6\n"
     ]
    },
    {
     "name": "stderr",
     "output_type": "stream",
     "text": [
      "\n"
     ]
    }
   ],
   "source": [
    "rate, total = np.zeros(20), np.zeros(20)\n",
    "for i in tqdm(range(20)):\n",
    "    for w in test_words[i]:\n",
    "        x = word2vector(w, norm=False)\n",
    "        prob = np.zeros(20)\n",
    "        for y in range(20):  # 做出对y类预测概率\n",
    "            logp = np.log(fileNum[y] / sum(fileNum))\n",
    "            for j in range(N):\n",
    "                logp += np.log(x[i] / Y[y][i]) - np.log(x[i] / X[i])\n",
    "            print(logp)\n",
    "            prob[y] = logp\n",
    "        print(prob)\n",
    "        print(f'预测为{np.argmax(prob)}')\n",
    "        break\n",
    "    break"
   ]
  },
  {
   "cell_type": "markdown",
   "id": "d6a0f6a7",
   "metadata": {},
   "source": [
    "## 前馈神经网络\n",
    "\n",
    "构建测试集与训练集"
   ]
  },
  {
   "cell_type": "code",
   "execution_count": 15,
   "id": "1f38c42f",
   "metadata": {},
   "outputs": [],
   "source": [
    "import tensorflow as tf\n",
    "import tensorflow.keras as keras\n",
    "import tensorflow.keras.layers as layers"
   ]
  },
  {
   "cell_type": "code",
   "execution_count": 16,
   "id": "3bcc911e",
   "metadata": {},
   "outputs": [
    {
     "name": "stdout",
     "output_type": "stream",
     "text": [
      "训练集大小(17835, 1000), 测试集大小(2000,)\n"
     ]
    }
   ],
   "source": [
    "train_x, train_y = [], []\n",
    "test_x, test_y = [], []\n",
    "tmp = [w for words in test_words for w  in words]\n",
    "cnt = 0\n",
    "for i in range(20):\n",
    "    for w in test_words[i]:  # 测试集\n",
    "        x = word2vector(w)\n",
    "        test_x.append(x)\n",
    "        test_y.append(i)\n",
    "    for w in words[i]:  # 训练集\n",
    "        if w not in tmp:  # 训练集元素不能在测试集中出现\n",
    "            x = word2vector(w)\n",
    "            train_x.append(x)\n",
    "            train_y.append(i)\n",
    "        else:\n",
    "            cnt += 1\n",
    "train_x = np.array(train_x)\n",
    "train_y = np.array(train_y)\n",
    "test_x = np.array(test_x)\n",
    "test_y = np.array(test_y)\n",
    "print(f'训练集大小{train_x.shape}, 测试集大小{test_y.shape}')"
   ]
  },
  {
   "cell_type": "code",
   "execution_count": 17,
   "id": "e4bd4a8f",
   "metadata": {},
   "outputs": [],
   "source": [
    "# 构建为tf.data.Dataset数据类型\n",
    "train = tf.data.Dataset.from_tensor_slices((train_x, train_y))\n",
    "train = train.shuffle(10000).batch(16).repeat(5)  # 随机打乱，batch大小为16，重复5次，即每次训练17835*5=89175个数据\n",
    "test = tf.data.Dataset.from_tensor_slices((test_x, test_y))"
   ]
  },
  {
   "cell_type": "code",
   "execution_count": 18,
   "id": "36bd5ea4",
   "metadata": {
    "scrolled": true
   },
   "outputs": [
    {
     "name": "stdout",
     "output_type": "stream",
     "text": [
      "Epoch 1/20\n",
      "5575/5575 [==============================] - 17s 3ms/step - loss: 2.4360 - accuracy: 0.3034 - val_loss: 2.0235 - val_accuracy: 0.4305\n",
      "Epoch 2/20\n",
      "5575/5575 [==============================] - 26s 5ms/step - loss: 1.6433 - accuracy: 0.5657 - val_loss: 1.5236 - val_accuracy: 0.5905\n",
      "Epoch 3/20\n",
      "5575/5575 [==============================] - 22s 4ms/step - loss: 1.3037 - accuracy: 0.6417 - val_loss: 1.2903 - val_accuracy: 0.6315\n",
      "Epoch 4/20\n",
      "5575/5575 [==============================] - 19s 3ms/step - loss: 1.1303 - accuracy: 0.6807 - val_loss: 1.1711 - val_accuracy: 0.6640\n",
      "Epoch 5/20\n",
      "5575/5575 [==============================] - 17s 3ms/step - loss: 1.0275 - accuracy: 0.7016 - val_loss: 1.1561 - val_accuracy: 0.6465\n",
      "Epoch 6/20\n",
      "5575/5575 [==============================] - 27s 5ms/step - loss: 0.9520 - accuracy: 0.7210 - val_loss: 1.1031 - val_accuracy: 0.6595\n",
      "Epoch 7/20\n",
      "5575/5575 [==============================] - 18s 3ms/step - loss: 0.8968 - accuracy: 0.7341 - val_loss: 1.0622 - val_accuracy: 0.6615\n",
      "Epoch 8/20\n",
      "5575/5575 [==============================] - 17s 3ms/step - loss: 0.8540 - accuracy: 0.7442 - val_loss: 1.0583 - val_accuracy: 0.6740\n",
      "Epoch 9/20\n",
      "5575/5575 [==============================] - 22s 4ms/step - loss: 0.8152 - accuracy: 0.7552 - val_loss: 1.0740 - val_accuracy: 0.6625\n",
      "Epoch 10/20\n",
      "5575/5575 [==============================] - 19s 3ms/step - loss: 0.7845 - accuracy: 0.7615 - val_loss: 1.0200 - val_accuracy: 0.6770\n",
      "Epoch 11/20\n",
      "5575/5575 [==============================] - 27s 5ms/step - loss: 0.7546 - accuracy: 0.7706 - val_loss: 0.9960 - val_accuracy: 0.6965\n",
      "Epoch 12/20\n",
      "5575/5575 [==============================] - 19s 3ms/step - loss: 0.7311 - accuracy: 0.7765 - val_loss: 1.0938 - val_accuracy: 0.6495\n",
      "Epoch 13/20\n",
      "5575/5575 [==============================] - 19s 3ms/step - loss: 0.7090 - accuracy: 0.7825 - val_loss: 0.9963 - val_accuracy: 0.6950\n",
      "Epoch 14/20\n",
      "5575/5575 [==============================] - 18s 3ms/step - loss: 0.6898 - accuracy: 0.7870 - val_loss: 1.0133 - val_accuracy: 0.6855\n",
      "Epoch 15/20\n",
      "5575/5575 [==============================] - 18s 3ms/step - loss: 0.6723 - accuracy: 0.7932 - val_loss: 0.9650 - val_accuracy: 0.6965\n",
      "Epoch 16/20\n",
      "5575/5575 [==============================] - 17s 3ms/step - loss: 0.6529 - accuracy: 0.7981 - val_loss: 0.9727 - val_accuracy: 0.7045\n",
      "Epoch 17/20\n",
      "5575/5575 [==============================] - 19s 3ms/step - loss: 0.6384 - accuracy: 0.8018 - val_loss: 0.9828 - val_accuracy: 0.6935\n",
      "Epoch 18/20\n",
      "5575/5575 [==============================] - 18s 3ms/step - loss: 0.6234 - accuracy: 0.8075 - val_loss: 1.0094 - val_accuracy: 0.6940\n",
      "Epoch 19/20\n",
      "5575/5575 [==============================] - 17s 3ms/step - loss: 0.6100 - accuracy: 0.8108 - val_loss: 1.0274 - val_accuracy: 0.6915\n",
      "Epoch 20/20\n",
      "5575/5575 [==============================] - 31s 6ms/step - loss: 0.5958 - accuracy: 0.8144 - val_loss: 0.9947 - val_accuracy: 0.6970\n"
     ]
    }
   ],
   "source": [
    "model = keras.Sequential([\n",
    "    layers.Dense(32, activation='sigmoid', input_shape=[N,]),\n",
    "    layers.Dense(20, activation='softmax')\n",
    "])\n",
    "model.compile(optimizer='adam',\n",
    "             loss = keras.losses.SparseCategoricalCrossentropy(),\n",
    "             metrics=['accuracy'])\n",
    "history = model.fit(train, epochs=20, validation_data=(test_x, test_y))"
   ]
  },
  {
   "cell_type": "code",
   "execution_count": 19,
   "id": "93b8b789",
   "metadata": {},
   "outputs": [
    {
     "data": {
      "image/png": "[encoded data removed]",
      "text/plain": [
       "<Figure size 1008x432 with 1 Axes>"
      ]
     },
     "metadata": {
      "needs_background": "light"
     },
     "output_type": "display_data"
    }
   ],
   "source": [
    "# plt.figure(figsize=(10, 5))\n",
    "labels = ['loss', 'accuracy', 'val_accuracy']\n",
    "name = ['损失', '训练集准确率', '验证集准确率']\n",
    "for i, l in enumerate(labels):\n",
    "    plt.plot(history.history[l], label=name[i])\n",
    "plt.xlabel('训练次数')\n",
    "plt.ylabel('准确率')\n",
    "plt.legend()\n",
    "plt.show()"
   ]
  },
  {
   "cell_type": "code",
   "execution_count": 20,
   "id": "8a630736",
   "metadata": {},
   "outputs": [
    {
     "name": "stdout",
     "output_type": "stream",
     "text": [
      "验证集上最终的准确率: 0.697\n"
     ]
    }
   ],
   "source": [
    "pred = model.predict(test_x)\n",
    "print(f'验证集上最终的准确率: {np.sum(np.argmax(pred, axis=1) == test_y) / np.size(test_y)}')"
   ]
  },
  {
   "cell_type": "code",
   "execution_count": 21,
   "id": "b91c9b4f",
   "metadata": {
    "scrolled": true
   },
   "outputs": [
    {
     "name": "stdout",
     "output_type": "stream",
     "text": [
      "Epoch 1/20\n",
      "5575/5575 [==============================] - 15s 3ms/step - loss: 0.5854 - accuracy: 0.8172 - val_loss: 0.9981 - val_accuracy: 0.7030\n",
      "Epoch 2/20\n",
      "5575/5575 [==============================] - 21s 4ms/step - loss: 0.5745 - accuracy: 0.8205 - val_loss: 1.0133 - val_accuracy: 0.6940\n",
      "Epoch 3/20\n",
      "5575/5575 [==============================] - 19s 3ms/step - loss: 0.5642 - accuracy: 0.8229 - val_loss: 1.0254 - val_accuracy: 0.6885\n",
      "Epoch 4/20\n",
      "5575/5575 [==============================] - 35s 6ms/step - loss: 0.5540 - accuracy: 0.8269 - val_loss: 1.0115 - val_accuracy: 0.6955\n",
      "Epoch 5/20\n",
      "5575/5575 [==============================] - 20s 4ms/step - loss: 0.5423 - accuracy: 0.8293 - val_loss: 1.0380 - val_accuracy: 0.6965\n",
      "Epoch 6/20\n",
      "5575/5575 [==============================] - 23s 4ms/step - loss: 0.5342 - accuracy: 0.8329 - val_loss: 1.0136 - val_accuracy: 0.6885\n",
      "Epoch 7/20\n",
      "5575/5575 [==============================] - 17s 3ms/step - loss: 0.5247 - accuracy: 0.8356 - val_loss: 1.0383 - val_accuracy: 0.6955\n",
      "Epoch 8/20\n",
      "5575/5575 [==============================] - 18s 3ms/step - loss: 0.5186 - accuracy: 0.8365 - val_loss: 1.0090 - val_accuracy: 0.7065\n",
      "Epoch 9/20\n",
      "5575/5575 [==============================] - 18s 3ms/step - loss: 0.5088 - accuracy: 0.8399 - val_loss: 1.0097 - val_accuracy: 0.6985\n",
      "Epoch 10/20\n",
      "5575/5575 [==============================] - 20s 4ms/step - loss: 0.5014 - accuracy: 0.8413 - val_loss: 1.0447 - val_accuracy: 0.7040\n",
      "Epoch 11/20\n",
      "5575/5575 [==============================] - 23s 4ms/step - loss: 0.4951 - accuracy: 0.8430 - val_loss: 1.0550 - val_accuracy: 0.6925\n",
      "Epoch 12/20\n",
      "5575/5575 [==============================] - 21s 4ms/step - loss: 0.4871 - accuracy: 0.8457 - val_loss: 1.0557 - val_accuracy: 0.6930\n",
      "Epoch 13/20\n",
      "5575/5575 [==============================] - 18s 3ms/step - loss: 0.4808 - accuracy: 0.8475 - val_loss: 1.0419 - val_accuracy: 0.7010\n",
      "Epoch 14/20\n",
      "5575/5575 [==============================] - 28s 5ms/step - loss: 0.4755 - accuracy: 0.8491 - val_loss: 1.0710 - val_accuracy: 0.6895\n",
      "Epoch 15/20\n",
      "5575/5575 [==============================] - 22s 4ms/step - loss: 0.4704 - accuracy: 0.8507 - val_loss: 1.0397 - val_accuracy: 0.7015\n",
      "Epoch 16/20\n",
      "5575/5575 [==============================] - 18s 3ms/step - loss: 0.4645 - accuracy: 0.8522 - val_loss: 1.0703 - val_accuracy: 0.6975\n",
      "Epoch 17/20\n",
      "5575/5575 [==============================] - 18s 3ms/step - loss: 0.4577 - accuracy: 0.8541 - val_loss: 1.0872 - val_accuracy: 0.7005\n",
      "Epoch 18/20\n",
      "5575/5575 [==============================] - 26s 5ms/step - loss: 0.4521 - accuracy: 0.8566 - val_loss: 1.0644 - val_accuracy: 0.7050\n",
      "Epoch 19/20\n",
      "5575/5575 [==============================] - 17s 3ms/step - loss: 0.4476 - accuracy: 0.8570 - val_loss: 1.0587 - val_accuracy: 0.7070\n",
      "Epoch 20/20\n",
      "5575/5575 [==============================] - 18s 3ms/step - loss: 0.4420 - accuracy: 0.8583 - val_loss: 1.1022 - val_accuracy: 0.7070\n"
     ]
    }
   ],
   "source": [
    "history = model.fit(train, epochs=20, validation_data=(test_x, test_y))"
   ]
  },
  {
   "cell_type": "code",
   "execution_count": 34,
   "id": "8f5aaf12",
   "metadata": {},
   "outputs": [
    {
     "name": "stdout",
     "output_type": "stream",
     "text": [
      "(19835, 1000) (19835,)\n"
     ]
    }
   ],
   "source": [
    "data_x = np.concatenate((train_x, test_x), axis=0).astype(np.float32)\n",
    "data_y = np.concatenate((train_y, test_y), axis=0).astype(np.float32)\n",
    "ds = tf.data.Dataset.from_tensor_slices((data_x, data_y)).batch(5000)\n",
    "print(data_x.shape, data_y.shape)"
   ]
  },
  {
   "cell_type": "code",
   "execution_count": 35,
   "id": "9b659811",
   "metadata": {},
   "outputs": [],
   "source": [
    "total_pred = model.predict(ds)"
   ]
  },
  {
   "cell_type": "code",
   "execution_count": 44,
   "id": "e8377861",
   "metadata": {
    "scrolled": false
   },
   "outputs": [
    {
     "name": "stdout",
     "output_type": "stream",
     "text": [
      "全部数据集上的正确率 83.60%\n"
     ]
    }
   ],
   "source": [
    "print(f'全部数据集上的正确率 {np.sum(tf.argmax(total_pred, axis=-1) == data_y) / np.size(data_y):.2%}')"
   ]
  },
  {
   "cell_type": "code",
   "execution_count": null,
   "id": "10fe5471",
   "metadata": {},
   "outputs": [],
   "source": []
  }
 ],
 "metadata": {
  "kernelspec": {
   "display_name": "Python 3 (ipykernel)",
   "language": "python",
   "name": "python3"
  },
  "language_info": {
   "codemirror_mode": {
    "name": "ipython",
    "version": 3
   },
   "file_extension": ".py",
   "mimetype": "text/x-python",
   "name": "python",
   "nbconvert_exporter": "python",
   "pygments_lexer": "ipython3",
   "version": "3.9.12"
  }
 },
 "nbformat": 4,
 "nbformat_minor": 5
}
