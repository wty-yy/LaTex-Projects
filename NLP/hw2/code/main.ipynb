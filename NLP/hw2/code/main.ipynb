{
 "cells": [
  {
   "cell_type": "markdown",
   "id": "cc48cb82",
   "metadata": {},
   "source": [
    "## 数据预处理"
   ]
  },
  {
   "cell_type": "code",
   "execution_count": 55,
   "id": "5f2c14ba",
   "metadata": {},
   "outputs": [],
   "source": [
    "# -*- coding: UTF-8 -*-\n",
    "\n",
    "\"\"\"\n",
    "@author: wty-yy\n",
    "@software: Jupyter\n",
    "@file: prepare.py\n",
    "@time: 2022/11/14 15:03\n",
    "\"\"\"\n",
    "\n",
    "from pathlib import Path\n",
    "import numpy as np\n",
    "import matplotlib.pyplot as plt\n",
    "import collections\n",
    "import re\n",
    "from tqdm import tqdm\n",
    "from nltk import word_tokenize  # 分词\n",
    "from nltk.corpus import stopwords  # 停用词\n",
    "from nltk.stem.porter import PorterStemmer  # 使用Porter词干提取方法\n",
    "from nltk.stem import WordNetLemmatizer  # 词性还原"
   ]
  },
  {
   "cell_type": "code",
   "execution_count": 130,
   "id": "8145d50e",
   "metadata": {},
   "outputs": [],
   "source": [
    "def extractWords(words):  # 提取分词\n",
    "    words = words.lower()\n",
    "    words = word_tokenize(words)  # 分词\n",
    "    dropWords = [\"n't\"]  # 这个是计算结果中出现次数第一的，但明显不重要\n",
    "    words = [word for word in words if re.match(r'[A-Za-z]', word) and word not in dropWords]  # 保证单词中必须包含字母\n",
    "    stops = set(stopwords.words('english'))\n",
    "    words = [word for word in words if word not in stops]\n",
    "    tmp = []  # 词干提取+还原词性\n",
    "    for word in words:\n",
    "        stem = PorterStemmer().stem(word)  # 词干提取\n",
    "        pos = ['n', 'v', 'a', 'r', 's']  # 名词，动词，形容词，副词，附属形容词\n",
    "        for p in pos:\n",
    "            stem = WordNetLemmatizer().lemmatize(stem, pos=p)\n",
    "        tmp.append(stem)  # 还原词性，附属形容词\n",
    "    words = tmp\n",
    "    return words\n",
    "\n",
    "def initDataset(fname, showInfo=True):\n",
    "    path = Path(fname)\n",
    "    folds = [f.name for f in path.iterdir() if f.is_dir()]\n",
    "    allwords, words, fileNum, counter = [[] for _ in range(20)], [[] for _ in range(20)], [], []\n",
    "    for id, fold in enumerate(folds):\n",
    "        print(f'处理第{id+1}/{len(folds)}个文件夹{fold}中...')\n",
    "        now = path.joinpath(fold)\n",
    "        files = [f.name for f in now.iterdir() if f.is_file()]\n",
    "        for file in tqdm(files):\n",
    "            pathFile = now.joinpath(file)\n",
    "            with open(pathFile, errors='replace') as f:\n",
    "                s = f.readline()\n",
    "                while s != \"\\n\":  # 先找到第一个换行符，下面则是正文\n",
    "                    s = f.readline()\n",
    "                text = f.read()\n",
    "            allwords[id] += extractWords(text)\n",
    "            words[id].append(extractWords(text))\n",
    "        fileNum.append(len(files))  # 记录文件数目\n",
    "        counter.append(collections.Counter(allwords[id]))  # 统计词频\n",
    "        \n",
    "    totalCounter = collections.Counter([w for word in allwords for w in word])\n",
    "    if showInfo:\n",
    "        print(f'{\"Class\":>25} {\"Id\":>5} {\"Files\":>8} {\"Words\":>8}  {\"Most common words\"}')  # 显示文件相关信息\n",
    "        for i, fold in enumerate(folds):\n",
    "            print(f'{fold:>25}:{i:>5} {fileNum[i]:>8} {len(counter[i]):>8}  {[t[0] for t in counter[i].most_common(5)]}')\n",
    "        print(f'{\"\":>25} {\"\":>5} {sum(fileNum):>8} {len(totalCounter):>8}  {[t[0] for t in totalCounter.most_common(5)]}')\n",
    "    \n",
    "    return words, totalCounter\n"
   ]
  },
  {
   "cell_type": "code",
   "execution_count": 131,
   "id": "c7854d86",
   "metadata": {},
   "outputs": [
    {
     "name": "stdout",
     "output_type": "stream",
     "text": [
      "get get get\n"
     ]
    }
   ],
   "source": [
    "print(WordNetLemmatizer().lemmatize('get', pos='v'), WordNetLemmatizer().lemmatize('got', pos='v'), WordNetLemmatizer().lemmatize('gotten', pos='v'))"
   ]
  },
  {
   "cell_type": "code",
   "execution_count": 132,
   "id": "fb8ca559",
   "metadata": {},
   "outputs": [
    {
     "data": {
      "text/plain": [
       "[1, 1, 2, 2]"
      ]
     },
     "execution_count": 132,
     "metadata": {},
     "output_type": "execute_result"
    }
   ],
   "source": [
    "[1,1]+[2,2]"
   ]
  },
  {
   "cell_type": "code",
   "execution_count": 133,
   "id": "a8aad0f2",
   "metadata": {
    "scrolled": true
   },
   "outputs": [
    {
     "name": "stdout",
     "output_type": "stream",
     "text": [
      "处理第1/20个文件夹alt.atheism中...\n"
     ]
    },
    {
     "name": "stderr",
     "output_type": "stream",
     "text": [
      "100%|██████████████████████████████████████████████████████████████████████████████| 1000/1000 [00:15<00:00, 64.07it/s]\n"
     ]
    },
    {
     "name": "stdout",
     "output_type": "stream",
     "text": [
      "处理第2/20个文件夹comp.graphics中...\n"
     ]
    },
    {
     "name": "stderr",
     "output_type": "stream",
     "text": [
      "100%|██████████████████████████████████████████████████████████████████████████████| 1000/1000 [00:13<00:00, 76.84it/s]\n"
     ]
    },
    {
     "name": "stdout",
     "output_type": "stream",
     "text": [
      "处理第3/20个文件夹comp.os.ms-windows.misc中...\n"
     ]
    },
    {
     "name": "stderr",
     "output_type": "stream",
     "text": [
      "100%|██████████████████████████████████████████████████████████████████████████████| 1000/1000 [00:17<00:00, 56.33it/s]\n"
     ]
    },
    {
     "name": "stdout",
     "output_type": "stream",
     "text": [
      "处理第4/20个文件夹comp.sys.ibm.pc.hardware中...\n"
     ]
    },
    {
     "name": "stderr",
     "output_type": "stream",
     "text": [
      "100%|█████████████████████████████████████████████████████████████████████████████| 1000/1000 [00:09<00:00, 103.95it/s]\n"
     ]
    },
    {
     "name": "stdout",
     "output_type": "stream",
     "text": [
      "处理第5/20个文件夹comp.sys.mac.hardware中...\n"
     ]
    },
    {
     "name": "stderr",
     "output_type": "stream",
     "text": [
      "100%|█████████████████████████████████████████████████████████████████████████████| 1000/1000 [00:08<00:00, 111.18it/s]\n"
     ]
    },
    {
     "name": "stdout",
     "output_type": "stream",
     "text": [
      "处理第6/20个文件夹comp.windows.x中...\n"
     ]
    },
    {
     "name": "stderr",
     "output_type": "stream",
     "text": [
      "100%|██████████████████████████████████████████████████████████████████████████████| 1000/1000 [00:14<00:00, 68.07it/s]\n"
     ]
    },
    {
     "name": "stdout",
     "output_type": "stream",
     "text": [
      "处理第7/20个文件夹misc.forsale中...\n"
     ]
    },
    {
     "name": "stderr",
     "output_type": "stream",
     "text": [
      "100%|█████████████████████████████████████████████████████████████████████████████| 1000/1000 [00:07<00:00, 131.80it/s]\n"
     ]
    },
    {
     "name": "stdout",
     "output_type": "stream",
     "text": [
      "处理第8/20个文件夹rec.autos中...\n"
     ]
    },
    {
     "name": "stderr",
     "output_type": "stream",
     "text": [
      "100%|██████████████████████████████████████████████████████████████████████████████| 1000/1000 [00:10<00:00, 94.63it/s]\n"
     ]
    },
    {
     "name": "stdout",
     "output_type": "stream",
     "text": [
      "处理第9/20个文件夹rec.motorcycles中...\n"
     ]
    },
    {
     "name": "stderr",
     "output_type": "stream",
     "text": [
      "100%|█████████████████████████████████████████████████████████████████████████████| 1000/1000 [00:09<00:00, 101.62it/s]\n"
     ]
    },
    {
     "name": "stdout",
     "output_type": "stream",
     "text": [
      "处理第10/20个文件夹rec.sport.baseball中...\n"
     ]
    },
    {
     "name": "stderr",
     "output_type": "stream",
     "text": [
      "100%|██████████████████████████████████████████████████████████████████████████████| 1000/1000 [00:11<00:00, 89.57it/s]\n"
     ]
    },
    {
     "name": "stdout",
     "output_type": "stream",
     "text": [
      "处理第11/20个文件夹rec.sport.hockey中...\n"
     ]
    },
    {
     "name": "stderr",
     "output_type": "stream",
     "text": [
      "100%|██████████████████████████████████████████████████████████████████████████████| 1000/1000 [00:13<00:00, 76.14it/s]\n"
     ]
    },
    {
     "name": "stdout",
     "output_type": "stream",
     "text": [
      "处理第12/20个文件夹sci.crypt中...\n"
     ]
    },
    {
     "name": "stderr",
     "output_type": "stream",
     "text": [
      "100%|██████████████████████████████████████████████████████████████████████████████| 1000/1000 [00:15<00:00, 63.42it/s]\n"
     ]
    },
    {
     "name": "stdout",
     "output_type": "stream",
     "text": [
      "处理第13/20个文件夹sci.electronics中...\n"
     ]
    },
    {
     "name": "stderr",
     "output_type": "stream",
     "text": [
      "100%|██████████████████████████████████████████████████████████████████████████████| 1000/1000 [00:10<00:00, 99.65it/s]\n"
     ]
    },
    {
     "name": "stdout",
     "output_type": "stream",
     "text": [
      "处理第14/20个文件夹sci.med中...\n"
     ]
    },
    {
     "name": "stderr",
     "output_type": "stream",
     "text": [
      "100%|██████████████████████████████████████████████████████████████████████████████| 1000/1000 [00:14<00:00, 68.36it/s]\n"
     ]
    },
    {
     "name": "stdout",
     "output_type": "stream",
     "text": [
      "处理第15/20个文件夹sci.space中...\n"
     ]
    },
    {
     "name": "stderr",
     "output_type": "stream",
     "text": [
      "100%|██████████████████████████████████████████████████████████████████████████████| 1000/1000 [00:14<00:00, 69.42it/s]\n"
     ]
    },
    {
     "name": "stdout",
     "output_type": "stream",
     "text": [
      "处理第16/20个文件夹soc.religion.christian中...\n"
     ]
    },
    {
     "name": "stderr",
     "output_type": "stream",
     "text": [
      "100%|████████████████████████████████████████████████████████████████████████████████| 997/997 [00:17<00:00, 56.68it/s]\n"
     ]
    },
    {
     "name": "stdout",
     "output_type": "stream",
     "text": [
      "处理第17/20个文件夹talk.politics.guns中...\n"
     ]
    },
    {
     "name": "stderr",
     "output_type": "stream",
     "text": [
      "100%|██████████████████████████████████████████████████████████████████████████████| 1000/1000 [00:16<00:00, 61.18it/s]\n"
     ]
    },
    {
     "name": "stdout",
     "output_type": "stream",
     "text": [
      "处理第18/20个文件夹talk.politics.mideast中...\n"
     ]
    },
    {
     "name": "stderr",
     "output_type": "stream",
     "text": [
      "100%|██████████████████████████████████████████████████████████████████████████████| 1000/1000 [00:23<00:00, 42.73it/s]\n"
     ]
    },
    {
     "name": "stdout",
     "output_type": "stream",
     "text": [
      "处理第19/20个文件夹talk.politics.misc中...\n"
     ]
    },
    {
     "name": "stderr",
     "output_type": "stream",
     "text": [
      "100%|██████████████████████████████████████████████████████████████████████████████| 1000/1000 [00:19<00:00, 51.86it/s]\n"
     ]
    },
    {
     "name": "stdout",
     "output_type": "stream",
     "text": [
      "处理第20/20个文件夹talk.religion.misc中...\n"
     ]
    },
    {
     "name": "stderr",
     "output_type": "stream",
     "text": [
      "100%|██████████████████████████████████████████████████████████████████████████████| 1000/1000 [00:15<00:00, 63.23it/s]\n"
     ]
    },
    {
     "name": "stdout",
     "output_type": "stream",
     "text": [
      "                    Class    Id    Files    Words  Most common words\n",
      "              alt.atheism:    0     1000    10950  ['write', 'say', 'one', 'god', 'would']\n",
      "            comp.graphics:    1     1000    13406  ['imag', 'file', 'use', 'program', 'write']\n",
      "  comp.os.ms-windows.misc:    2     1000    48850  ['max', 'g', 'r', 'q', 'p']\n",
      " comp.sys.ibm.pc.hardware:    3     1000    10353  ['drive', 'use', 'get', 'card', 'scsi']\n",
      "    comp.sys.mac.hardware:    4     1000     9354  ['use', 'mac', 'get', 'write', 'appl']\n",
      "           comp.windows.x:    5     1000    20392  ['x', 'use', 'window', 'file', 'program']\n",
      "             misc.forsale:    6     1000    10830  ['new', 'sale', 'offer', 'use', 'sell']\n",
      "                rec.autos:    7     1000    10378  ['car', 'write', 'get', 'articl', 'would']\n",
      "          rec.motorcycles:    8     1000    10207  ['write', 'bike', 'get', 'articl', 'dod']\n",
      "       rec.sport.baseball:    9     1000     9164  ['game', 'year', 'write', 'good', 'get']\n",
      "         rec.sport.hockey:   10     1000    11311  ['game', 'team', 'play', 'go', 'get']\n",
      "                sci.crypt:   11     1000    13087  ['key', 'use', 'encrypt', 'would', 'write']\n",
      "          sci.electronics:   12     1000    10480  ['use', 'one', 'would', 'write', 'get']\n",
      "                  sci.med:   13     1000    15271  ['use', 'one', 'write', 'get', 'articl']\n",
      "                sci.space:   14     1000    13867  ['space', 'would', 'write', 'orbit', 'one']\n",
      "   soc.religion.christian:   15      997    12616  ['god', 'christian', 'one', 'would', 'say']\n",
      "       talk.politics.guns:   16     1000    14626  ['gun', 'would', 'write', 'peopl', 'articl']\n",
      "    talk.politics.mideast:   17     1000    15105  ['armenian', 'say', 'peopl', 'one', 'write']\n",
      "       talk.politics.misc:   18     1000    13727  ['would', 'write', 'peopl', 'say', 'articl']\n",
      "       talk.religion.misc:   19     1000    12390  ['write', 'say', 'one', 'god', 'would']\n",
      "                                   19997   146437  ['write', 'would', 'one', 'use', 'get']\n"
     ]
    }
   ],
   "source": [
    "words, totalCounter = initDataset(r'D:\\yy\\program\\NLP\\hw2\\20_newsgroups')"
   ]
  },
  {
   "cell_type": "markdown",
   "id": "01bed20f",
   "metadata": {},
   "source": [
    "```\n",
    "                    Class  Id Files  Words  Most common words\n",
    "              alt.atheism:  0  1000  10950  ['write', 'say', 'one', 'god', 'would']\n",
    "            comp.graphics:  1  1000  13406  ['imag', 'file', 'use', 'program', 'write']\n",
    "  comp.os.ms-windows.misc:  2  1000  48850  ['max', 'g', 'r', 'q', 'p']\n",
    " comp.sys.ibm.pc.hardware:  3  1000  10353  ['drive', 'use', 'get', 'card', 'scsi']\n",
    "    comp.sys.mac.hardware:  4  1000   9354  ['use', 'mac', 'get', 'write', 'appl']\n",
    "           comp.windows.x:  5  1000  20392  ['x', 'use', 'window', 'file', 'program']\n",
    "             misc.forsale:  6  1000  10830  ['new', 'sale', 'offer', 'use', 'sell']\n",
    "                rec.autos:  7  1000  10378  ['car', 'write', 'get', 'articl', 'would']\n",
    "          rec.motorcycles:  8  1000  10207  ['write', 'bike', 'get', 'articl', 'dod']\n",
    "       rec.sport.baseball:  9  1000   9164  ['game', 'year', 'write', 'good', 'get']\n",
    "         rec.sport.hockey: 10  1000  11311  ['game', 'team', 'play', 'go', 'get']\n",
    "                sci.crypt: 11  1000  13087  ['key', 'use', 'encrypt', 'would', 'write']\n",
    "          sci.electronics: 12  1000  10480  ['use', 'one', 'would', 'write', 'get']\n",
    "                  sci.med: 13  1000  15271  ['use', 'one', 'write', 'get', 'articl']\n",
    "                sci.space: 14  1000  13867  ['space', 'would', 'write', 'orbit', 'one']\n",
    "   soc.religion.christian: 15   997  12616  ['god', 'christian', 'one', 'would', 'say']\n",
    "       talk.politics.guns: 16  1000  14626  ['gun', 'would', 'write', 'peopl', 'articl']\n",
    "    talk.politics.mideast: 17  1000  15105  ['armenian', 'say', 'peopl', 'one', 'write']\n",
    "       talk.politics.misc: 18  1000  13727  ['would', 'write', 'peopl', 'say', 'articl']\n",
    "       talk.religion.misc: 19  1000  12390  ['write', 'say', 'one', 'god', 'would']\n",
    "                              19997 146437  ['write', 'would', 'one', 'use', 'get']\n",
    "```"
   ]
  },
  {
   "cell_type": "markdown",
   "id": "f85dc773",
   "metadata": {},
   "source": [
    "## K近邻\n",
    "\n",
    "选取前1000个单词作为词向量的维度."
   ]
  },
  {
   "cell_type": "code",
   "execution_count": 134,
   "id": "de93611d",
   "metadata": {},
   "outputs": [],
   "source": [
    "N = 1000\n",
    "value = list(totalCounter.values())\n",
    "keyword = totalCounter.most_common(1000)"
   ]
  },
  {
   "cell_type": "code",
   "execution_count": 135,
   "id": "3c668c7d",
   "metadata": {
    "scrolled": true
   },
   "outputs": [
    {
     "name": "stdout",
     "output_type": "stream",
     "text": [
      "write, would, one, use, get, articl, say, know, like, think, make, peopl, good, go, time, x, see, also, could, work, u, take, right, new, want, system, even, way, year, thing, come, well, find, may, give, look, need, god, problem, much, mani, tri, first, two, file, mean, max, believ, call, run, question, point, q, anyon, post, seem, program, state, window, tell, differ, r, drive, read, realli, someth, plea, includ, g, sinc, thank, number, p, ca, back, univers, still, govern, reason, help, inform, day, start, person, game, gener, part, follow, might, support, c, law, sure, last, long, ask, case, fact, never, do, let, interest, set, christian, must, without, possibl, hear, group, comput, power, anoth, someon, car, avail, lot, n, b, name, show, put, keep, key, imag, line, great, exist, chang, live, send, actual, word, world, control, place, claim, high, list, happen, probabl, anyth, etc, data, howev, around, book, w, littl, opinion, v, everi, bite, card, kill, true, consid, least, cours, object, play, buy, best, child, softwar, space, idea, enough, base, talk, order, team, old, second, gun, end, provid, late, issu, version, el, nation, build, human, though, armenian, exampl, either, far, refer, public, k, note, david, noth, life, jesu, hard, sourc, respons, requir, ye, rather, wrong, real, answer, bad, caus, subject, understand, e, discus, report, origin, current, l, effect, john, f, valu, mail, quit, big, chip, man, allow, free, price, pay, other, h, care, standard, sever, le, kind, feel, moral, mayb, hope, suggest, machin, abl, evid, email, ever, alway, american, phone, next, turn, yet, result, engin, address, sell, disk, fire, hand, scienc, develop, sound, author, accept, whether, bill, small, close, type, applic, agre, forc, three, z, user, hold, lead, rememb, e-mail, internet, view, open, away, jew, j, import, area, research, home, messag, driver, today, love, leave, q,3, matter, countri, mark, design, appear, move, copi, israel, player, religion, posit, check, fast, creat, cost, assum, test, war, manag, servic, color, major, unit, commun, local, complet, code, wonder, speak, larg, perhap, oper, display, low, presid, argument, deal, shoot, week, side, compani, offer, box, alreadi, mac, rule, win, stop, expect, money, secur, encrypt, becom, speed, format, light, experi, mind, church, studi, technolog, guy, specif, organ, begin, graphic, mention, form, present, ago, lose, woman, recent, save, stuff, product, protect, bibl, offic, act, correct, center, pretti, member, memori, statement, month, death, whole, action, fax, bring, model, die, truth, process, natur, full, packag, hous, rate, guess, info, attack, pc, perform, access, except, final, pas, everyth, bodi, histori, news, often, involv, receiv, situat, intern, simpli, break, sort, advanc, everyon, arm, fbi, plan, instal, friend, continu, hit, sen, regard, polit, usual, comment, head, mr., server, certainli, monitor, total, appreci, carri, board, suppos, contact, error, b8f, term, limit, clear, almost, anyway, instead, paul, explain, homosexu, activ, stand, return, drug, command, muslim, although, men, wo, turkish, meet, job, earth, level, faith, april, definit, netcom.com, frank, network, basic, devic, event, quot, christ, connect, black, theori, ftp, defin, net, contain, michael, nice, belief, leav, unless, convert, grind, citi, press, function, individu, coupl, weapon, document, singl, prove, privat, within, learn, night, decid, observ, school, similar, cover, sun, a86, steve, period, busi, ad, concern, appli, attempt, thu, mike, u.s., bike, relat, practic, anybodi, fan, isra, arab, jewish, sin, page, repli, site, land, newsgroup, especi, watch, religi, direct, face, accord, certain, detail, releas, peac, figur, addit, road, legal, delet, compar, text, wait, record, video, parti, white, size, fine, polic, mode, mine, draw, exactli, de, entir, hell, describ, past, saw, purpos, physic, societi, field, option, among, common, ignor, stori, bear, spend, oh, dead, add, sorri, rest, simpl, special, million, scsi, jim, goe, condit, koresh, normal, sale, ring, notic, via, crime, particular, absolut, whatev, strong, increas, project, short, appl, upon, third, sometim, top, therefor, health, replac, output, murder, depart, tax, per, fail, screen, institut, offici, p., season, hardwar, date, polici, robert, hi, doubt, paper, print, due, propos, goal, depend, red, request, pick, serv, forget, prefer, ga, clinton, easi, produc, cut, futur, fall, throw, lie, atheist, insur, handl, earli, medic, hockey, four, method, associ, radio, defens, teach, prevent, port, section, remov, cheap, feder, orbit, front, publish, flame, outsid, canada, chanc, manual, electron, dod, minor, faq, choic, will, indic, tape, young, king, miss, clipper, ride, seri, shall, commit, knowledg, air, account, constitut, distribut, worth, a., blue, tool, wish, vote, usa, freedom, variou, ok, administr, burn, occur, score, jame, bu, decis, court, launch, water, select, charg, famili, anonym, market, ship, interpret, featur, leagu, switch, font, hour, near, amount, behind, medium, jpeg, directori, popul, respect, qualiti, measur, citizen, lord, sign, dave, along, necessari, bob, york, logic, togeth, greek, remain, judg, san, librari, fight, letter, previou, algorithm, share, express, father, brian, resourc, plu, islam, digit, militari, inc., voic, search, soon, solut, unix, pictur, ram, agenc, respond, db, fit, fix, initi, crimin, appar, averag, minut, main, trade, food, class, student, entri, peter, clearli, russian, widget, toward, basebal, ed, imagin, modem, fund, educ, load, ibm, mile, approach, interfac, languag, none, announc, son, slow, determin, avoid, j., door, divis, repres, materi, enforc, mous, otherwis, independ, suppli, armenia, doctor, ii, age, eye, stupid, mass, wire, disclaim, basi, seriou, stick, separ, realiz, la, cabl, unfortun, implement, drop, purchas, agent, turk, al, stay, sit, diseas, hole, washington, danger, effort, anim, equal, tv, technic, folk, inde, success, argu, recommend, choos, predict, c., convers, owner, capabl, station, lack, civil, happi, consist, printer, block, rais, batf, insid, obvious, patient, abort, street, room, reach, hate, intend, dr., directli, obtain, rel, locat, collect, commerci, suffer, secret, beat, thousand, illeg, kid, bb, turkey, america, scientif, clean, archiv, improv, manufactur, wide, surpris, firearm, mission, train, altern, store, neither, eric, establish, nasa, environ, step, scott, equip, input, suspect, serial, heart, floppi, grant, smith, count, reduc, troubl, i.e, genocid, employ, eat, whose, apr, leader, concept, excel, dealer, listen, half, titl, compound, thoma, punish, pitch, edit, tom, mechan, realiti, admit, difficult, easili, amend, recogn, enter, conclus, degre, confer, investig, pain, aid, context, confus, appropri, uunet, scriptur, trust, walk, pat, bank, safe, upgrad, volum, usenet, adam, georg, extra, defend, andrew, mere, expens, sex, tank, western, compress, compil, translat, social, gif, alon, angel, star, "
     ]
    }
   ],
   "source": [
    "word2num, num2word = {}, {}\n",
    "for i, word in enumerate(keyword):\n",
    "    word2num[word[0]] = i\n",
    "    num2word[i] = word\n",
    "    print(word[0], end=', ')"
   ]
  },
  {
   "cell_type": "markdown",
   "id": "eccc4bf1",
   "metadata": {},
   "source": [
    "### 构建词向量\n",
    "\n",
    "归一化到半径为100的球上"
   ]
  },
  {
   "cell_type": "code",
   "execution_count": 164,
   "id": "0aaafb6a",
   "metadata": {},
   "outputs": [],
   "source": [
    "def word2vector(word):\n",
    "    x = np.ones(N)\n",
    "    for t in w:\n",
    "        if t in word2num:\n",
    "            x[word2num[t]] += 1\n",
    "    x /= x.sum() / 100\n",
    "    return x\n",
    "    \n",
    "data = []  # (词向量, 类别)  共有19997个词向量\n",
    "for i in range(20):\n",
    "    for w in words[i]:\n",
    "        x = word2vector(w)\n",
    "        data.append((x, i))"
   ]
  },
  {
   "cell_type": "code",
   "execution_count": 201,
   "id": "48abf11a",
   "metadata": {
    "scrolled": true
   },
   "outputs": [
    {
     "name": "stdout",
     "output_type": "stream",
     "text": [
      "处理第1/20个文件夹alt.atheism中...\n"
     ]
    },
    {
     "name": "stderr",
     "output_type": "stream",
     "text": [
      "100%|████████████████████████████████████████████████████████████████████████████████| 100/100 [00:01<00:00, 69.90it/s]\n"
     ]
    },
    {
     "name": "stdout",
     "output_type": "stream",
     "text": [
      "处理第2/20个文件夹comp.graphics中...\n"
     ]
    },
    {
     "name": "stderr",
     "output_type": "stream",
     "text": [
      "100%|████████████████████████████████████████████████████████████████████████████████| 100/100 [00:02<00:00, 44.73it/s]\n"
     ]
    },
    {
     "name": "stdout",
     "output_type": "stream",
     "text": [
      "处理第3/20个文件夹comp.os.ms-windows.misc中...\n"
     ]
    },
    {
     "name": "stderr",
     "output_type": "stream",
     "text": [
      "100%|████████████████████████████████████████████████████████████████████████████████| 100/100 [00:01<00:00, 72.11it/s]\n"
     ]
    },
    {
     "name": "stdout",
     "output_type": "stream",
     "text": [
      "处理第4/20个文件夹comp.sys.ibm.pc.hardware中...\n"
     ]
    },
    {
     "name": "stderr",
     "output_type": "stream",
     "text": [
      "100%|███████████████████████████████████████████████████████████████████████████████| 100/100 [00:00<00:00, 101.71it/s]\n"
     ]
    },
    {
     "name": "stdout",
     "output_type": "stream",
     "text": [
      "处理第5/20个文件夹comp.sys.mac.hardware中...\n"
     ]
    },
    {
     "name": "stderr",
     "output_type": "stream",
     "text": [
      "100%|████████████████████████████████████████████████████████████████████████████████| 100/100 [00:01<00:00, 96.32it/s]\n"
     ]
    },
    {
     "name": "stdout",
     "output_type": "stream",
     "text": [
      "处理第6/20个文件夹comp.windows.x中...\n"
     ]
    },
    {
     "name": "stderr",
     "output_type": "stream",
     "text": [
      "100%|████████████████████████████████████████████████████████████████████████████████| 100/100 [00:01<00:00, 62.02it/s]\n"
     ]
    },
    {
     "name": "stdout",
     "output_type": "stream",
     "text": [
      "处理第7/20个文件夹misc.forsale中...\n"
     ]
    },
    {
     "name": "stderr",
     "output_type": "stream",
     "text": [
      "100%|███████████████████████████████████████████████████████████████████████████████| 100/100 [00:00<00:00, 122.55it/s]\n"
     ]
    },
    {
     "name": "stdout",
     "output_type": "stream",
     "text": [
      "处理第8/20个文件夹rec.autos中...\n"
     ]
    },
    {
     "name": "stderr",
     "output_type": "stream",
     "text": [
      "100%|████████████████████████████████████████████████████████████████████████████████| 100/100 [00:01<00:00, 92.65it/s]\n"
     ]
    },
    {
     "name": "stdout",
     "output_type": "stream",
     "text": [
      "处理第9/20个文件夹rec.motorcycles中...\n"
     ]
    },
    {
     "name": "stderr",
     "output_type": "stream",
     "text": [
      "100%|████████████████████████████████████████████████████████████████████████████████| 100/100 [00:01<00:00, 99.24it/s]\n"
     ]
    },
    {
     "name": "stdout",
     "output_type": "stream",
     "text": [
      "处理第10/20个文件夹rec.sport.baseball中...\n"
     ]
    },
    {
     "name": "stderr",
     "output_type": "stream",
     "text": [
      "100%|████████████████████████████████████████████████████████████████████████████████| 100/100 [00:01<00:00, 88.36it/s]\n"
     ]
    },
    {
     "name": "stdout",
     "output_type": "stream",
     "text": [
      "处理第11/20个文件夹rec.sport.hockey中...\n"
     ]
    },
    {
     "name": "stderr",
     "output_type": "stream",
     "text": [
      "100%|████████████████████████████████████████████████████████████████████████████████| 100/100 [00:01<00:00, 80.76it/s]\n"
     ]
    },
    {
     "name": "stdout",
     "output_type": "stream",
     "text": [
      "处理第12/20个文件夹sci.crypt中...\n"
     ]
    },
    {
     "name": "stderr",
     "output_type": "stream",
     "text": [
      "100%|████████████████████████████████████████████████████████████████████████████████| 100/100 [00:01<00:00, 67.99it/s]\n"
     ]
    },
    {
     "name": "stdout",
     "output_type": "stream",
     "text": [
      "处理第13/20个文件夹sci.electronics中...\n"
     ]
    },
    {
     "name": "stderr",
     "output_type": "stream",
     "text": [
      "100%|████████████████████████████████████████████████████████████████████████████████| 100/100 [00:01<00:00, 61.61it/s]\n"
     ]
    },
    {
     "name": "stdout",
     "output_type": "stream",
     "text": [
      "处理第14/20个文件夹sci.med中...\n"
     ]
    },
    {
     "name": "stderr",
     "output_type": "stream",
     "text": [
      "100%|████████████████████████████████████████████████████████████████████████████████| 100/100 [00:01<00:00, 51.92it/s]\n"
     ]
    },
    {
     "name": "stdout",
     "output_type": "stream",
     "text": [
      "处理第15/20个文件夹sci.space中...\n"
     ]
    },
    {
     "name": "stderr",
     "output_type": "stream",
     "text": [
      "100%|████████████████████████████████████████████████████████████████████████████████| 100/100 [00:01<00:00, 59.92it/s]\n"
     ]
    },
    {
     "name": "stdout",
     "output_type": "stream",
     "text": [
      "处理第16/20个文件夹soc.religion.christian中...\n"
     ]
    },
    {
     "name": "stderr",
     "output_type": "stream",
     "text": [
      "100%|████████████████████████████████████████████████████████████████████████████████| 100/100 [00:02<00:00, 49.91it/s]\n"
     ]
    },
    {
     "name": "stdout",
     "output_type": "stream",
     "text": [
      "处理第17/20个文件夹talk.politics.guns中...\n"
     ]
    },
    {
     "name": "stderr",
     "output_type": "stream",
     "text": [
      "100%|████████████████████████████████████████████████████████████████████████████████| 100/100 [00:01<00:00, 63.74it/s]\n"
     ]
    },
    {
     "name": "stdout",
     "output_type": "stream",
     "text": [
      "处理第18/20个文件夹talk.politics.mideast中...\n"
     ]
    },
    {
     "name": "stderr",
     "output_type": "stream",
     "text": [
      "100%|████████████████████████████████████████████████████████████████████████████████| 100/100 [00:01<00:00, 55.15it/s]\n"
     ]
    },
    {
     "name": "stdout",
     "output_type": "stream",
     "text": [
      "处理第19/20个文件夹talk.politics.misc中...\n"
     ]
    },
    {
     "name": "stderr",
     "output_type": "stream",
     "text": [
      "100%|████████████████████████████████████████████████████████████████████████████████| 100/100 [00:01<00:00, 51.23it/s]\n"
     ]
    },
    {
     "name": "stdout",
     "output_type": "stream",
     "text": [
      "处理第20/20个文件夹talk.religion.misc中...\n"
     ]
    },
    {
     "name": "stderr",
     "output_type": "stream",
     "text": [
      "100%|████████████████████████████████████████████████████████████████████████████████| 100/100 [00:01<00:00, 65.62it/s]\n"
     ]
    },
    {
     "name": "stdout",
     "output_type": "stream",
     "text": [
      "                    Class    Id    Files    Words  Most common words\n",
      "              alt.atheism:    0      100     3096  ['write', 'say', 'articl', 'one', 'make']\n",
      "            comp.graphics:    1      100     5273  ['imag', 'file', 'use', 'jpeg', 'format']\n",
      "  comp.os.ms-windows.misc:    2      100     5038  ['p', 'r', 'g', 'window', 'w']\n",
      " comp.sys.ibm.pc.hardware:    3      100     2567  ['use', 'drive', 'would', 'one', 'work']\n",
      "    comp.sys.mac.hardware:    4      100     2660  ['drive', 'problem', 'use', 'get', 'mac']\n",
      "           comp.windows.x:    5      100     3715  ['x', 'window', 'use', 'entri', 'program']\n",
      "             misc.forsale:    6      100     2669  ['new', 'plea', 'work', 'use', 'sale']\n",
      "                rec.autos:    7      100     3177  ['car', 'write', 'get', 'one', 'like']\n",
      "          rec.motorcycles:    8      100     3218  ['write', 'bike', 'articl', 'get', 'would']\n",
      "       rec.sport.baseball:    9      100     2889  ['year', 'write', 'game', 'good', 'get']\n",
      "         rec.sport.hockey:   10      100     3268  ['game', 'play', 'go', 'team', 'get']\n",
      "                sci.crypt:   11      100     3302  ['key', 'use', 'encrypt', 'would', 'secur']\n",
      "          sci.electronics:   12      100     3696  ['wire', 'use', 'one', 'grind', 'circuit']\n",
      "                  sci.med:   13      100     4975  ['one', 'use', 'get', 'would', 'write']\n",
      "                sci.space:   14      100     4365  ['space', 'would', 'launch', 'one', 'mission']\n",
      "   soc.religion.christian:   15      100     4237  ['god', 'one', 'christian', 'would', 'say']\n",
      "       talk.politics.guns:   16      100     3840  ['gun', 'write', 'would', 'peopl', 'articl']\n",
      "    talk.politics.mideast:   17      100     4552  ['write', 'armenian', 'israel', 'peopl', 'say']\n",
      "       talk.politics.misc:   18      100     4168  ['say', 'q', 'mr.', 'would', 'write']\n",
      "       talk.religion.misc:   19      100     3612  ['write', 'articl', 'say', 'one', 'would']\n",
      "                                    2000    31633  ['write', 'use', 'would', 'one', 'get']\n"
     ]
    }
   ],
   "source": [
    "test_words, _ = initDataset(r'D:\\yy\\program\\NLP\\hw2\\mini_newsgroups')"
   ]
  },
  {
   "cell_type": "code",
   "execution_count": 235,
   "id": "60ca7127",
   "metadata": {},
   "outputs": [],
   "source": [
    "def KNN(word, K=5):\n",
    "    now = word2vector(word)\n",
    "    dist = []\n",
    "    for x, y in data:\n",
    "        dist.append((np.linalg.norm(now - x), y))\n",
    "    dist = sorted(dist, key=(lambda x: x[0]))\n",
    "    dist = dist[1:K+1]\n",
    "    classify = [c[1] for c in dist]\n",
    "    counter = collections.Counter(classify)\n",
    "    return counter.most_common()[0][0]"
   ]
  },
  {
   "cell_type": "code",
   "execution_count": 233,
   "id": "d28555ed",
   "metadata": {
    "scrolled": true
   },
   "outputs": [
    {
     "name": "stderr",
     "output_type": "stream",
     "text": [
      "100%|████████████████████████████████████████████████████████████████████████████████| 100/100 [00:12<00:00,  8.04it/s]"
     ]
    },
    {
     "name": "stdout",
     "output_type": "stream",
     "text": [
      "K=5, 正确率: 55.000000%\n"
     ]
    },
    {
     "name": "stderr",
     "output_type": "stream",
     "text": [
      "\n"
     ]
    }
   ],
   "source": [
    "K = [5]\n",
    "rate = []\n",
    "for k in K:\n",
    "    right = 0\n",
    "    for w in tqdm(test_words[1]):\n",
    "        if KNN(w, k) == 1:\n",
    "            right += 1\n",
    "    rate.append(right/len(test_words[0]))\n",
    "    print(f'K={k}, 正确率: {rate[-1]:%}')"
   ]
  },
  {
   "cell_type": "code",
   "execution_count": 236,
   "id": "5ba93cfc",
   "metadata": {},
   "outputs": [
    {
     "name": "stderr",
     "output_type": "stream",
     "text": [
      "100%|████████████████████████████████████████████████████████████████████████████████| 100/100 [00:12<00:00,  8.03it/s]\n",
      "100%|████████████████████████████████████████████████████████████████████████████████| 100/100 [00:12<00:00,  7.99it/s]\n",
      "100%|████████████████████████████████████████████████████████████████████████████████| 100/100 [00:12<00:00,  7.90it/s]\n",
      "100%|████████████████████████████████████████████████████████████████████████████████| 100/100 [00:12<00:00,  7.80it/s]\n",
      "100%|████████████████████████████████████████████████████████████████████████████████| 100/100 [00:12<00:00,  8.07it/s]\n",
      "100%|████████████████████████████████████████████████████████████████████████████████| 100/100 [00:12<00:00,  8.08it/s]\n",
      "100%|████████████████████████████████████████████████████████████████████████████████| 100/100 [00:12<00:00,  7.82it/s]\n",
      "100%|████████████████████████████████████████████████████████████████████████████████| 100/100 [00:12<00:00,  7.82it/s]\n",
      "100%|████████████████████████████████████████████████████████████████████████████████| 100/100 [00:12<00:00,  7.78it/s]\n",
      "100%|████████████████████████████████████████████████████████████████████████████████| 100/100 [00:13<00:00,  7.65it/s]\n",
      "100%|████████████████████████████████████████████████████████████████████████████████| 100/100 [00:12<00:00,  7.89it/s]\n",
      "100%|████████████████████████████████████████████████████████████████████████████████| 100/100 [00:12<00:00,  7.87it/s]\n",
      "100%|████████████████████████████████████████████████████████████████████████████████| 100/100 [00:12<00:00,  8.07it/s]\n",
      "100%|████████████████████████████████████████████████████████████████████████████████| 100/100 [00:12<00:00,  8.00it/s]\n",
      "100%|████████████████████████████████████████████████████████████████████████████████| 100/100 [00:12<00:00,  8.05it/s]\n",
      "100%|████████████████████████████████████████████████████████████████████████████████| 100/100 [00:12<00:00,  8.13it/s]\n",
      "100%|████████████████████████████████████████████████████████████████████████████████| 100/100 [00:12<00:00,  8.09it/s]\n",
      "100%|████████████████████████████████████████████████████████████████████████████████| 100/100 [00:12<00:00,  8.14it/s]\n",
      "100%|████████████████████████████████████████████████████████████████████████████████| 100/100 [00:12<00:00,  8.15it/s]\n",
      "100%|████████████████████████████████████████████████████████████████████████████████| 100/100 [00:12<00:00,  8.16it/s]"
     ]
    },
    {
     "name": "stdout",
     "output_type": "stream",
     "text": [
      "第1组类别，正确率: 0.55\n",
      "第2组类别，正确率: 0.43\n",
      "第3组类别，正确率: 0.55\n",
      "第4组类别，正确率: 0.51\n",
      "第5组类别，正确率: 0.38\n",
      "第6组类别，正确率: 0.56\n",
      "第7组类别，正确率: 0.44\n",
      "第8组类别，正确率: 0.42\n",
      "第9组类别，正确率: 0.46\n",
      "第10组类别，正确率: 0.67\n",
      "第11组类别，正确率: 0.57\n",
      "第12组类别，正确率: 0.7\n",
      "第13组类别，正确率: 0.62\n",
      "第14组类别，正确率: 0.51\n",
      "第15组类别，正确率: 0.57\n",
      "第16组类别，正确率: 0.57\n",
      "第17组类别，正确率: 0.5\n",
      "第18组类别，正确率: 0.56\n",
      "第19组类别，正确率: 0.72\n",
      "第20组类别，正确率: 0.43\n"
     ]
    },
    {
     "name": "stderr",
     "output_type": "stream",
     "text": [
      "\n"
     ]
    }
   ],
   "source": [
    "for i in range(20):\n",
    "    right = 0\n",
    "    for w in tqdm(test_words[i]):\n",
    "        if KNN(w, k) == i:\n",
    "            right += 1\n",
    "    rate.append(right/len(test_words[i]))\n",
    "\n",
    "for i in range(20):\n",
    "    print(f'第{i+1}组类别，正确率: {rate[i]}')"
   ]
  },
  {
   "cell_type": "code",
   "execution_count": null,
   "id": "e96b703f",
   "metadata": {},
   "outputs": [],
   "source": []
  }
 ],
 "metadata": {
  "kernelspec": {
   "display_name": "Python 3 (ipykernel)",
   "language": "python",
   "name": "python3"
  },
  "language_info": {
   "codemirror_mode": {
    "name": "ipython",
    "version": 3
   },
   "file_extension": ".py",
   "mimetype": "text/x-python",
   "name": "python",
   "nbconvert_exporter": "python",
   "pygments_lexer": "ipython3",
   "version": "3.9.12"
  }
 },
 "nbformat": 4,
 "nbformat_minor": 5
}
